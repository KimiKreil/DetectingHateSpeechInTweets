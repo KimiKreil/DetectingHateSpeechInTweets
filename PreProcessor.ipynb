{
 "cells": [
  {
   "cell_type": "markdown",
   "id": "d6cfb46d",
   "metadata": {},
   "source": [
    "# Load Libraries and Data"
   ]
  },
  {
   "cell_type": "code",
   "execution_count": 1,
   "id": "572df711",
   "metadata": {
    "ExecuteTime": {
     "end_time": "2022-03-24T10:34:43.403113Z",
     "start_time": "2022-03-24T10:34:38.500117Z"
    }
   },
   "outputs": [
    {
     "name": "stderr",
     "output_type": "stream",
     "text": [
      "[nltk_data] Downloading package stopwords to\n",
      "[nltk_data]     /Users/kreilgaard/nltk_data...\n",
      "[nltk_data]   Package stopwords is already up-to-date!\n",
      "[nltk_data] Downloading package wordnet to\n",
      "[nltk_data]     /Users/kreilgaard/nltk_data...\n",
      "[nltk_data]   Package wordnet is already up-to-date!\n",
      "[nltk_data] Downloading package averaged_perceptron_tagger to\n",
      "[nltk_data]     /Users/kreilgaard/nltk_data...\n",
      "[nltk_data]   Package averaged_perceptron_tagger is already up-to-\n",
      "[nltk_data]       date!\n"
     ]
    }
   ],
   "source": [
    "# Importing standard libraries\n",
    "import numpy as np\n",
    "import pandas as pd\n",
    "import matplotlib.pyplot as plt\n",
    "\n",
    "# Natural language processing ---------\n",
    "import nltk\n",
    "\n",
    "# Stopwords\n",
    "nltk.download('stopwords')\n",
    "# Lemmatizer\n",
    "nltk.download('wordnet')\n",
    "nltk.download('averaged_perceptron_tagger')\n",
    "\n",
    "# Regex\n",
    "import re"
   ]
  },
  {
   "cell_type": "code",
   "execution_count": 2,
   "id": "790901f1",
   "metadata": {
    "ExecuteTime": {
     "end_time": "2022-03-24T10:34:43.517963Z",
     "start_time": "2022-03-24T10:34:43.408203Z"
    }
   },
   "outputs": [
    {
     "data": {
      "text/html": [
       "<div>\n",
       "<style scoped>\n",
       "    .dataframe tbody tr th:only-of-type {\n",
       "        vertical-align: middle;\n",
       "    }\n",
       "\n",
       "    .dataframe tbody tr th {\n",
       "        vertical-align: top;\n",
       "    }\n",
       "\n",
       "    .dataframe thead th {\n",
       "        text-align: right;\n",
       "    }\n",
       "</style>\n",
       "<table border=\"1\" class=\"dataframe\">\n",
       "  <thead>\n",
       "    <tr style=\"text-align: right;\">\n",
       "      <th></th>\n",
       "      <th>Unnamed: 0</th>\n",
       "      <th>count</th>\n",
       "      <th>hate_speech</th>\n",
       "      <th>offensive_language</th>\n",
       "      <th>neither</th>\n",
       "      <th>class</th>\n",
       "      <th>tweet</th>\n",
       "    </tr>\n",
       "  </thead>\n",
       "  <tbody>\n",
       "    <tr>\n",
       "      <th>0</th>\n",
       "      <td>0</td>\n",
       "      <td>3</td>\n",
       "      <td>0</td>\n",
       "      <td>0</td>\n",
       "      <td>3</td>\n",
       "      <td>2</td>\n",
       "      <td>!!! RT @mayasolovely: As a woman you shouldn't...</td>\n",
       "    </tr>\n",
       "    <tr>\n",
       "      <th>1</th>\n",
       "      <td>1</td>\n",
       "      <td>3</td>\n",
       "      <td>0</td>\n",
       "      <td>3</td>\n",
       "      <td>0</td>\n",
       "      <td>1</td>\n",
       "      <td>!!!!! RT @mleew17: boy dats cold...tyga dwn ba...</td>\n",
       "    </tr>\n",
       "    <tr>\n",
       "      <th>2</th>\n",
       "      <td>2</td>\n",
       "      <td>3</td>\n",
       "      <td>0</td>\n",
       "      <td>3</td>\n",
       "      <td>0</td>\n",
       "      <td>1</td>\n",
       "      <td>!!!!!!! RT @UrKindOfBrand Dawg!!!! RT @80sbaby...</td>\n",
       "    </tr>\n",
       "    <tr>\n",
       "      <th>3</th>\n",
       "      <td>3</td>\n",
       "      <td>3</td>\n",
       "      <td>0</td>\n",
       "      <td>2</td>\n",
       "      <td>1</td>\n",
       "      <td>1</td>\n",
       "      <td>!!!!!!!!! RT @C_G_Anderson: @viva_based she lo...</td>\n",
       "    </tr>\n",
       "    <tr>\n",
       "      <th>4</th>\n",
       "      <td>4</td>\n",
       "      <td>6</td>\n",
       "      <td>0</td>\n",
       "      <td>6</td>\n",
       "      <td>0</td>\n",
       "      <td>1</td>\n",
       "      <td>!!!!!!!!!!!!! RT @ShenikaRoberts: The shit you...</td>\n",
       "    </tr>\n",
       "    <tr>\n",
       "      <th>...</th>\n",
       "      <td>...</td>\n",
       "      <td>...</td>\n",
       "      <td>...</td>\n",
       "      <td>...</td>\n",
       "      <td>...</td>\n",
       "      <td>...</td>\n",
       "      <td>...</td>\n",
       "    </tr>\n",
       "    <tr>\n",
       "      <th>24778</th>\n",
       "      <td>25291</td>\n",
       "      <td>3</td>\n",
       "      <td>0</td>\n",
       "      <td>2</td>\n",
       "      <td>1</td>\n",
       "      <td>1</td>\n",
       "      <td>you's a muthaf***in lie &amp;#8220;@LifeAsKing: @2...</td>\n",
       "    </tr>\n",
       "    <tr>\n",
       "      <th>24779</th>\n",
       "      <td>25292</td>\n",
       "      <td>3</td>\n",
       "      <td>0</td>\n",
       "      <td>1</td>\n",
       "      <td>2</td>\n",
       "      <td>2</td>\n",
       "      <td>you've gone and broke the wrong heart baby, an...</td>\n",
       "    </tr>\n",
       "    <tr>\n",
       "      <th>24780</th>\n",
       "      <td>25294</td>\n",
       "      <td>3</td>\n",
       "      <td>0</td>\n",
       "      <td>3</td>\n",
       "      <td>0</td>\n",
       "      <td>1</td>\n",
       "      <td>young buck wanna eat!!.. dat nigguh like I ain...</td>\n",
       "    </tr>\n",
       "    <tr>\n",
       "      <th>24781</th>\n",
       "      <td>25295</td>\n",
       "      <td>6</td>\n",
       "      <td>0</td>\n",
       "      <td>6</td>\n",
       "      <td>0</td>\n",
       "      <td>1</td>\n",
       "      <td>youu got wild bitches tellin you lies</td>\n",
       "    </tr>\n",
       "    <tr>\n",
       "      <th>24782</th>\n",
       "      <td>25296</td>\n",
       "      <td>3</td>\n",
       "      <td>0</td>\n",
       "      <td>0</td>\n",
       "      <td>3</td>\n",
       "      <td>2</td>\n",
       "      <td>~~Ruffled | Ntac Eileen Dahlia - Beautiful col...</td>\n",
       "    </tr>\n",
       "  </tbody>\n",
       "</table>\n",
       "<p>24783 rows × 7 columns</p>\n",
       "</div>"
      ],
      "text/plain": [
       "       Unnamed: 0  count  hate_speech  offensive_language  neither  class  \\\n",
       "0               0      3            0                   0        3      2   \n",
       "1               1      3            0                   3        0      1   \n",
       "2               2      3            0                   3        0      1   \n",
       "3               3      3            0                   2        1      1   \n",
       "4               4      6            0                   6        0      1   \n",
       "...           ...    ...          ...                 ...      ...    ...   \n",
       "24778       25291      3            0                   2        1      1   \n",
       "24779       25292      3            0                   1        2      2   \n",
       "24780       25294      3            0                   3        0      1   \n",
       "24781       25295      6            0                   6        0      1   \n",
       "24782       25296      3            0                   0        3      2   \n",
       "\n",
       "                                                   tweet  \n",
       "0      !!! RT @mayasolovely: As a woman you shouldn't...  \n",
       "1      !!!!! RT @mleew17: boy dats cold...tyga dwn ba...  \n",
       "2      !!!!!!! RT @UrKindOfBrand Dawg!!!! RT @80sbaby...  \n",
       "3      !!!!!!!!! RT @C_G_Anderson: @viva_based she lo...  \n",
       "4      !!!!!!!!!!!!! RT @ShenikaRoberts: The shit you...  \n",
       "...                                                  ...  \n",
       "24778  you's a muthaf***in lie &#8220;@LifeAsKing: @2...  \n",
       "24779  you've gone and broke the wrong heart baby, an...  \n",
       "24780  young buck wanna eat!!.. dat nigguh like I ain...  \n",
       "24781              youu got wild bitches tellin you lies  \n",
       "24782  ~~Ruffled | Ntac Eileen Dahlia - Beautiful col...  \n",
       "\n",
       "[24783 rows x 7 columns]"
      ]
     },
     "execution_count": 2,
     "metadata": {},
     "output_type": "execute_result"
    }
   ],
   "source": [
    "# Load data\n",
    "df = pd.read_csv('labeled_data.csv')\n",
    "df"
   ]
  },
  {
   "cell_type": "markdown",
   "id": "1b3c7fa8",
   "metadata": {},
   "source": [
    "# Explore the Data (Should be moved to a new file perhaps)"
   ]
  },
  {
   "cell_type": "code",
   "execution_count": 3,
   "id": "4db74530",
   "metadata": {
    "ExecuteTime": {
     "end_time": "2022-03-24T10:34:43.785375Z",
     "start_time": "2022-03-24T10:34:43.525155Z"
    }
   },
   "outputs": [
    {
     "data": {
      "image/png": "[encoded data removed]",
      "text/plain": [
       "<Figure size 576x360 with 1 Axes>"
      ]
     },
     "metadata": {
      "needs_background": "light"
     },
     "output_type": "display_data"
    }
   ],
   "source": [
    "# Plot how many of each class we have\n",
    "fig, ax = plt.subplots(figsize=(8,5))\n",
    "\n",
    "ax.set_facecolor('gainsboro')\n",
    "ax.grid(color='white')\n",
    "\n",
    "# Current sample\n",
    "ax.hist(df['class'], bins=np.arange(-0.5,2.5+1, 1), color='purple', zorder=2)\n",
    "plt.xticks([0,1,2], labels=['Hate \\nSpeech', 'Offensive \\nLanguage', 'Neither'], fontsize=20)\n",
    "plt.yticks([5000, 10000, 15000, 20000],['5k','10k','15k','20k'], fontsize=15)\n",
    "ax.set_ylabel('Number of Tweets', fontsize=20)\n",
    "\n",
    "# Downsampling\n",
    "# Make new plots of (if we chose) the tweets used we have equal amount of tweets for each class\n",
    "\n",
    "ax.set_title('Class Instances from \\nthe Full Sample of Tweets', fontsize=22)\n",
    "plt.show()"
   ]
  },
  {
   "cell_type": "markdown",
   "id": "8deced09",
   "metadata": {},
   "source": [
    "# Cleaning/Counting Twitter Specific Characters"
   ]
  },
  {
   "cell_type": "markdown",
   "id": "429581b1",
   "metadata": {},
   "source": [
    "Overvej om du kan gøre noget smartere med emojis. Der er trods alt noget information i dem, måske kan de inddeles i følelser? Er der allerede et dictionary til det måske."
   ]
  },
  {
   "cell_type": "code",
   "execution_count": 4,
   "id": "be177bf9",
   "metadata": {
    "ExecuteTime": {
     "end_time": "2022-03-24T10:34:43.797331Z",
     "start_time": "2022-03-24T10:34:43.789022Z"
    }
   },
   "outputs": [],
   "source": [
    "# Load stopwords that we want to remove\n",
    "stopwords = nltk.corpus.stopwords.words(\"english\")\n",
    "\n",
    "# Add other stuff we want to remove, for example retweets rt\n",
    "other_exclusions = [\"#ff\", \"ff\", \"rt\"]\n",
    "stopwords.extend(other_exclusions)"
   ]
  },
  {
   "cell_type": "code",
   "execution_count": 5,
   "id": "67471d26",
   "metadata": {
    "ExecuteTime": {
     "end_time": "2022-03-24T10:34:43.815685Z",
     "start_time": "2022-03-24T10:34:43.799723Z"
    }
   },
   "outputs": [],
   "source": [
    "# Define a function that fixes twitter specific text\n",
    "def tweet_yeet(string):\n",
    "    \"\"\"\n",
    "    This function removes/changes (and counts) twitter specific stuff:\n",
    "    - ampersands (&amp;) are replaced with 'and'\n",
    "    - lots of whitespace with is replaced with one whitespace\n",
    "    - URLs are replaced with URLHERE\n",
    "    - mentions on the form @name are replaced with MENTIONHERE\n",
    "    - emojis in HTML encoding (start = #& end = ;) are replaced with EMOTICONHERE\n",
    "    \n",
    "    It removes special characters, except ! and ?\n",
    "    \n",
    "    It also removes stopwords along with the twitter specifics we don't care about:\n",
    "    - retweets (RT) are removed\n",
    "    - follow friday (FF and #FF) are removed\n",
    "    \"\"\"\n",
    "    \n",
    "    # Exchange ampersands for 'and'\n",
    "    parsed_string = re.sub('(&amp;)', 'and', string)\n",
    "    \n",
    "    # Exchange @username for MENTIONHERE (username can be alfanumeric and underscores)\n",
    "    parsed_string = re.sub('@[\\w\\_]+', ' MENTIONHERE ', parsed_string)\n",
    "    \n",
    "    # Exchange emojis for EMOTICONHERE (MAYBE CHANGE LATER TO KEEP INFORMATION)\n",
    "    parsed_string = re.sub('(&#\\d+;)+', ' EMOTICONHERE ', parsed_string)\n",
    "    \n",
    "    # Exchange URLs for URLHERE (since URL look similar on twitter this is easier than usual)\n",
    "    parsed_string = re.sub('https?:\\/\\/t\\.co\\/\\w+', '', parsed_string)\n",
    "    \n",
    "    # Exchange ! for EXCLAMATIONMARK\n",
    "    parsed_string = re.sub('\\!+',' EXCLAMATIONMARK ', parsed_string)\n",
    "    \n",
    "    # Exchange ! for QUESTIONMARK\n",
    "    parsed_string = re.sub('\\?+',' QUESTIONMARK ', parsed_string)\n",
    "    \n",
    "    # Remove excess white space (+ removes one or more of the pattern)\n",
    "    parsed_string = re.sub('\\s+', ' ', parsed_string)\n",
    "    \n",
    "    # Remove all the special characters except ! and ? and replace with a whitespace\n",
    "    parsed_string = re.sub(\"[^a-zA-Z!?']\", \" \", parsed_string) \n",
    "    \n",
    "    # Convert all letters to lower case and split into words\n",
    "    words = parsed_string.lower().split()\n",
    "\n",
    "    # Remove stopwords, RT, FF and #FF\n",
    "    words = [w for w in words if not w in stopwords]   \n",
    "    \n",
    "    # Join all words back to text\n",
    "    parsed_text = \" \".join(words)\n",
    "    \n",
    "    # Remove ' in case some are left that were not in stopwords\n",
    "    parsed_text = re.sub(\"'\", \"\", parsed_text)\n",
    "    \n",
    "    return parsed_text"
   ]
  },
  {
   "cell_type": "code",
   "execution_count": 6,
   "id": "a8519873",
   "metadata": {
    "ExecuteTime": {
     "end_time": "2022-03-24T10:34:45.260844Z",
     "start_time": "2022-03-24T10:34:43.818857Z"
    }
   },
   "outputs": [],
   "source": [
    "# Use tweet yeet on entire dataframe and add a new column with cleaned tweets\n",
    "\n",
    "# Array to store clean tweets\n",
    "clean_tweets = []\n",
    "\n",
    "# Loop over tweets\n",
    "for i in range(len(df)):\n",
    "    \n",
    "    # Clean each tweet and append\n",
    "    tweet = tweet_yeet(df['tweet'][i])\n",
    "    clean_tweets.append(tweet)\n",
    "    \n",
    "# Add new column to existing dataframe\n",
    "df['clean tweet'] = clean_tweets"
   ]
  },
  {
   "cell_type": "markdown",
   "id": "cfff54fd",
   "metadata": {},
   "source": [
    "# Converting Words to their Base Form (Lemmatization with POS)"
   ]
  },
  {
   "cell_type": "markdown",
   "id": "0a954d4c",
   "metadata": {},
   "source": [
    "Should one use stemming or lemmatization?\n",
    "https://towardsdatascience.com/stemming-vs-lemmatization-2daddabcb221"
   ]
  },
  {
   "cell_type": "code",
   "execution_count": 19,
   "id": "b50081d5",
   "metadata": {
    "ExecuteTime": {
     "end_time": "2022-03-24T10:36:44.388536Z",
     "start_time": "2022-03-24T10:36:44.377150Z"
    }
   },
   "outputs": [],
   "source": [
    "# Initialise the Wordnet Lemmatizer\n",
    "lemmatizer = nltk.stem.WordNetLemmatizer()\n",
    "\n",
    "# Define the helper function that converts NLTKs tag into wordnet format\n",
    "def get_wordnet_pos(word):\n",
    "    \"\"\"Map POS tag to first character lemmatize() accepts\"\"\"\n",
    "    \n",
    "    # Get NLTK tag\n",
    "    tag = nltk.pos_tag([word])[0][1][0].upper()\n",
    "    print(tag)\n",
    "    # Dictionary that defines the conversion (for valied wordnet part of speech tags)\n",
    "    tag_dict = {\"J\": nltk.corpus.wordnet.ADJ,\n",
    "                \"N\": nltk.corpus.wordnet.NOUN,\n",
    "                \"V\": nltk.corpus.wordnet.VERB,\n",
    "                \"R\": nltk.corpus.wordnet.ADV}\n",
    "    \n",
    "    # Get wordnet tag, if not a tag in wordnet, don't stem it\n",
    "    try: tag_wordnet = tag_dict[tag]\n",
    "    except: tag_wordnet = nltk.corpus.wordnet.VERB\n",
    "\n",
    "    # Not completely sure this part works\n",
    "    return tag_dict.get(tag, tag_wordnet)\n",
    "\n",
    "# Def a function that takes a string and returns the base form of its words\n",
    "def wordnet_base(string):\n",
    "    \n",
    "    # Split the string into words\n",
    "    words = string.split()\n",
    "\n",
    "    # Stem the words\n",
    "    base_words = [lemmatizer.lemmatize(w, get_wordnet_pos(w)) for w in words] \n",
    "\n",
    "    # Put words together into a single string\n",
    "    base_string = \" \".join(base_words)\n",
    "    \n",
    "    return base_string"
   ]
  },
  {
   "cell_type": "code",
   "execution_count": 20,
   "id": "d0e1657b",
   "metadata": {
    "ExecuteTime": {
     "end_time": "2022-03-24T10:36:45.090446Z",
     "start_time": "2022-03-24T10:36:45.069003Z"
    }
   },
   "outputs": [
    {
     "name": "stdout",
     "output_type": "stream",
     "text": [
      "N\n",
      "R\n",
      "R\n",
      "N\n",
      "N\n",
      "V\n",
      "J\n",
      "N\n",
      "V\n",
      "P\n",
      "N\n",
      "N\n",
      "N\n",
      "R\n"
     ]
    },
    {
     "data": {
      "text/plain": [
       "('exclamationmark emoticonhere mentionhere cause im tired big bitches coming us skinny girls exclamationmark emoticonhere',\n",
       " 'exclamationmark emoticonhere mentionhere cause im tire big bitch come us skinny girl exclamationmark emoticonhere')"
      ]
     },
     "execution_count": 20,
     "metadata": {},
     "output_type": "execute_result"
    }
   ],
   "source": [
    "df['clean tweet'][7], wordnet_base(df['clean tweet'][7])"
   ]
  },
  {
   "cell_type": "markdown",
   "id": "285f81a4",
   "metadata": {},
   "source": [
    "# Converting Words to their Base Form (PorterStemmer)"
   ]
  },
  {
   "cell_type": "code",
   "execution_count": 21,
   "id": "b278fe12",
   "metadata": {
    "ExecuteTime": {
     "end_time": "2022-03-24T10:36:46.852750Z",
     "start_time": "2022-03-24T10:36:46.845170Z"
    }
   },
   "outputs": [],
   "source": [
    "# Initialise the stemmer\n",
    "stemmer = nltk.stem.PorterStemmer()\n",
    "\n",
    "# Def a function that takes a string and returns the base form of its words\n",
    "def porter_base(string):\n",
    "    \n",
    "    # Split the string into words\n",
    "    words = string.split()\n",
    "\n",
    "    # Stem the words\n",
    "    base_words = [stemmer.stem(w) for w in words] \n",
    "\n",
    "    # Put words together into a single string\n",
    "    base_string = \" \".join(base_words)\n",
    "    \n",
    "    return base_string"
   ]
  },
  {
   "cell_type": "code",
   "execution_count": 22,
   "id": "16c7ccba",
   "metadata": {
    "ExecuteTime": {
     "end_time": "2022-03-24T10:36:47.780181Z",
     "start_time": "2022-03-24T10:36:47.769688Z"
    }
   },
   "outputs": [
    {
     "data": {
      "text/plain": [
       "('exclamationmark emoticonhere mentionhere cause im tired big bitches coming us skinny girls exclamationmark emoticonhere',\n",
       " 'exclamationmark emoticonher mentionher caus im tire big bitch come us skinni girl exclamationmark emoticonher')"
      ]
     },
     "execution_count": 22,
     "metadata": {},
     "output_type": "execute_result"
    }
   ],
   "source": [
    "df['clean tweet'][7], porter_base(df['clean tweet'][7])"
   ]
  },
  {
   "cell_type": "code",
   "execution_count": 23,
   "id": "a9946eb2",
   "metadata": {
    "ExecuteTime": {
     "end_time": "2022-03-24T10:36:48.444142Z",
     "start_time": "2022-03-24T10:36:48.434042Z"
    }
   },
   "outputs": [
    {
     "name": "stdout",
     "output_type": "stream",
     "text": [
      "N\n"
     ]
    },
    {
     "data": {
      "text/plain": [
       "'as'"
      ]
     },
     "execution_count": 23,
     "metadata": {},
     "output_type": "execute_result"
    }
   ],
   "source": [
    "wordnet_base('ass')"
   ]
  },
  {
   "cell_type": "markdown",
   "id": "6aec7ae5",
   "metadata": {},
   "source": [
    "## Test the stemming methods"
   ]
  },
  {
   "cell_type": "code",
   "execution_count": 11,
   "id": "750e65c4",
   "metadata": {
    "ExecuteTime": {
     "end_time": "2022-03-24T10:34:47.167737Z",
     "start_time": "2022-03-24T10:34:47.159613Z"
    }
   },
   "outputs": [
    {
     "data": {
      "text/plain": [
       "'jump jumper jump us you them hi'"
      ]
     },
     "execution_count": 11,
     "metadata": {},
     "output_type": "execute_result"
    }
   ],
   "source": [
    "porter_base('jumping jumper jump us you them his')"
   ]
  },
  {
   "cell_type": "code",
   "execution_count": 12,
   "id": "29f4f3cd",
   "metadata": {
    "ExecuteTime": {
     "end_time": "2022-03-24T10:34:47.197221Z",
     "start_time": "2022-03-24T10:34:47.180434Z"
    }
   },
   "outputs": [
    {
     "data": {
      "text/plain": [
       "'jumping jumper jump us you them his'"
      ]
     },
     "execution_count": 12,
     "metadata": {},
     "output_type": "execute_result"
    }
   ],
   "source": [
    "wordnet_base('jumping jumper jump us you them his')"
   ]
  },
  {
   "cell_type": "markdown",
   "id": "682a1bf1",
   "metadata": {
    "ExecuteTime": {
     "end_time": "2022-03-23T10:08:22.443387Z",
     "start_time": "2022-03-23T10:08:22.434050Z"
    }
   },
   "source": [
    "The wordnet lemmatizer seems to be better at handling pronouns and not changing them to something wrong, as long as we use verb as default."
   ]
  },
  {
   "cell_type": "markdown",
   "id": "f4132675",
   "metadata": {},
   "source": [
    "## Stem the tweets and add to dataframe"
   ]
  },
  {
   "cell_type": "code",
   "execution_count": 13,
   "id": "28b13cd9",
   "metadata": {
    "ExecuteTime": {
     "end_time": "2022-03-24T10:35:22.789418Z",
     "start_time": "2022-03-24T10:34:47.199700Z"
    }
   },
   "outputs": [],
   "source": [
    "# Array to store stemmed tweets\n",
    "stemmed_tweets = []\n",
    "\n",
    "# Loop over tweets\n",
    "for i in range(len(df)):\n",
    "    \n",
    "    # Clean each tweet and append\n",
    "    tweet = wordnet_base(df['clean tweet'][i])\n",
    "    stemmed_tweets.append(tweet)\n",
    "    \n",
    "# Add new column to existing dataframe\n",
    "df['stemmed tweet'] = stemmed_tweets"
   ]
  },
  {
   "cell_type": "code",
   "execution_count": 14,
   "id": "edc4d4c9",
   "metadata": {
    "ExecuteTime": {
     "end_time": "2022-03-24T10:35:22.821921Z",
     "start_time": "2022-03-24T10:35:22.791432Z"
    }
   },
   "outputs": [
    {
     "data": {
      "text/html": [
       "<div>\n",
       "<style scoped>\n",
       "    .dataframe tbody tr th:only-of-type {\n",
       "        vertical-align: middle;\n",
       "    }\n",
       "\n",
       "    .dataframe tbody tr th {\n",
       "        vertical-align: top;\n",
       "    }\n",
       "\n",
       "    .dataframe thead th {\n",
       "        text-align: right;\n",
       "    }\n",
       "</style>\n",
       "<table border=\"1\" class=\"dataframe\">\n",
       "  <thead>\n",
       "    <tr style=\"text-align: right;\">\n",
       "      <th></th>\n",
       "      <th>Unnamed: 0</th>\n",
       "      <th>count</th>\n",
       "      <th>hate_speech</th>\n",
       "      <th>offensive_language</th>\n",
       "      <th>neither</th>\n",
       "      <th>class</th>\n",
       "      <th>tweet</th>\n",
       "      <th>clean tweet</th>\n",
       "      <th>stemmed tweet</th>\n",
       "    </tr>\n",
       "  </thead>\n",
       "  <tbody>\n",
       "    <tr>\n",
       "      <th>0</th>\n",
       "      <td>0</td>\n",
       "      <td>3</td>\n",
       "      <td>0</td>\n",
       "      <td>0</td>\n",
       "      <td>3</td>\n",
       "      <td>2</td>\n",
       "      <td>!!! RT @mayasolovely: As a woman you shouldn't...</td>\n",
       "      <td>exclamationmark mentionhere woman complain cle...</td>\n",
       "      <td>exclamationmark mentionhere woman complain cle...</td>\n",
       "    </tr>\n",
       "    <tr>\n",
       "      <th>1</th>\n",
       "      <td>1</td>\n",
       "      <td>3</td>\n",
       "      <td>0</td>\n",
       "      <td>3</td>\n",
       "      <td>0</td>\n",
       "      <td>1</td>\n",
       "      <td>!!!!! RT @mleew17: boy dats cold...tyga dwn ba...</td>\n",
       "      <td>exclamationmark mentionhere boy dats cold tyga...</td>\n",
       "      <td>exclamationmark mentionhere boy dat cold tyga ...</td>\n",
       "    </tr>\n",
       "    <tr>\n",
       "      <th>2</th>\n",
       "      <td>2</td>\n",
       "      <td>3</td>\n",
       "      <td>0</td>\n",
       "      <td>3</td>\n",
       "      <td>0</td>\n",
       "      <td>1</td>\n",
       "      <td>!!!!!!! RT @UrKindOfBrand Dawg!!!! RT @80sbaby...</td>\n",
       "      <td>exclamationmark mentionhere dawg exclamationma...</td>\n",
       "      <td>exclamationmark mentionhere dawg exclamationma...</td>\n",
       "    </tr>\n",
       "    <tr>\n",
       "      <th>3</th>\n",
       "      <td>3</td>\n",
       "      <td>3</td>\n",
       "      <td>0</td>\n",
       "      <td>2</td>\n",
       "      <td>1</td>\n",
       "      <td>1</td>\n",
       "      <td>!!!!!!!!! RT @C_G_Anderson: @viva_based she lo...</td>\n",
       "      <td>exclamationmark mentionhere mentionhere look l...</td>\n",
       "      <td>exclamationmark mentionhere mentionhere look l...</td>\n",
       "    </tr>\n",
       "    <tr>\n",
       "      <th>4</th>\n",
       "      <td>4</td>\n",
       "      <td>6</td>\n",
       "      <td>0</td>\n",
       "      <td>6</td>\n",
       "      <td>0</td>\n",
       "      <td>1</td>\n",
       "      <td>!!!!!!!!!!!!! RT @ShenikaRoberts: The shit you...</td>\n",
       "      <td>exclamationmark mentionhere shit hear might tr...</td>\n",
       "      <td>exclamationmark mentionhere shit hear might tr...</td>\n",
       "    </tr>\n",
       "    <tr>\n",
       "      <th>...</th>\n",
       "      <td>...</td>\n",
       "      <td>...</td>\n",
       "      <td>...</td>\n",
       "      <td>...</td>\n",
       "      <td>...</td>\n",
       "      <td>...</td>\n",
       "      <td>...</td>\n",
       "      <td>...</td>\n",
       "      <td>...</td>\n",
       "    </tr>\n",
       "    <tr>\n",
       "      <th>24778</th>\n",
       "      <td>25291</td>\n",
       "      <td>3</td>\n",
       "      <td>0</td>\n",
       "      <td>2</td>\n",
       "      <td>1</td>\n",
       "      <td>1</td>\n",
       "      <td>you's a muthaf***in lie &amp;#8220;@LifeAsKing: @2...</td>\n",
       "      <td>yous muthaf lie emoticonhere mentionhere menti...</td>\n",
       "      <td>yous muthaf lie emoticonhere mentionhere menti...</td>\n",
       "    </tr>\n",
       "    <tr>\n",
       "      <th>24779</th>\n",
       "      <td>25292</td>\n",
       "      <td>3</td>\n",
       "      <td>0</td>\n",
       "      <td>1</td>\n",
       "      <td>2</td>\n",
       "      <td>2</td>\n",
       "      <td>you've gone and broke the wrong heart baby, an...</td>\n",
       "      <td>gone broke wrong heart baby drove redneck crazy</td>\n",
       "      <td>go broke wrong heart baby drove redneck crazy</td>\n",
       "    </tr>\n",
       "    <tr>\n",
       "      <th>24780</th>\n",
       "      <td>25294</td>\n",
       "      <td>3</td>\n",
       "      <td>0</td>\n",
       "      <td>3</td>\n",
       "      <td>0</td>\n",
       "      <td>1</td>\n",
       "      <td>young buck wanna eat!!.. dat nigguh like I ain...</td>\n",
       "      <td>young buck wanna eat exclamationmark dat niggu...</td>\n",
       "      <td>young buck wanna eat exclamationmark dat niggu...</td>\n",
       "    </tr>\n",
       "    <tr>\n",
       "      <th>24781</th>\n",
       "      <td>25295</td>\n",
       "      <td>6</td>\n",
       "      <td>0</td>\n",
       "      <td>6</td>\n",
       "      <td>0</td>\n",
       "      <td>1</td>\n",
       "      <td>youu got wild bitches tellin you lies</td>\n",
       "      <td>youu got wild bitches tellin lies</td>\n",
       "      <td>youu get wild bitch tellin lie</td>\n",
       "    </tr>\n",
       "    <tr>\n",
       "      <th>24782</th>\n",
       "      <td>25296</td>\n",
       "      <td>3</td>\n",
       "      <td>0</td>\n",
       "      <td>0</td>\n",
       "      <td>3</td>\n",
       "      <td>2</td>\n",
       "      <td>~~Ruffled | Ntac Eileen Dahlia - Beautiful col...</td>\n",
       "      <td>ruffled ntac eileen dahlia beautiful color com...</td>\n",
       "      <td>ruffle ntac eileen dahlia beautiful color comb...</td>\n",
       "    </tr>\n",
       "  </tbody>\n",
       "</table>\n",
       "<p>24783 rows × 9 columns</p>\n",
       "</div>"
      ],
      "text/plain": [
       "       Unnamed: 0  count  hate_speech  offensive_language  neither  class  \\\n",
       "0               0      3            0                   0        3      2   \n",
       "1               1      3            0                   3        0      1   \n",
       "2               2      3            0                   3        0      1   \n",
       "3               3      3            0                   2        1      1   \n",
       "4               4      6            0                   6        0      1   \n",
       "...           ...    ...          ...                 ...      ...    ...   \n",
       "24778       25291      3            0                   2        1      1   \n",
       "24779       25292      3            0                   1        2      2   \n",
       "24780       25294      3            0                   3        0      1   \n",
       "24781       25295      6            0                   6        0      1   \n",
       "24782       25296      3            0                   0        3      2   \n",
       "\n",
       "                                                   tweet  \\\n",
       "0      !!! RT @mayasolovely: As a woman you shouldn't...   \n",
       "1      !!!!! RT @mleew17: boy dats cold...tyga dwn ba...   \n",
       "2      !!!!!!! RT @UrKindOfBrand Dawg!!!! RT @80sbaby...   \n",
       "3      !!!!!!!!! RT @C_G_Anderson: @viva_based she lo...   \n",
       "4      !!!!!!!!!!!!! RT @ShenikaRoberts: The shit you...   \n",
       "...                                                  ...   \n",
       "24778  you's a muthaf***in lie &#8220;@LifeAsKing: @2...   \n",
       "24779  you've gone and broke the wrong heart baby, an...   \n",
       "24780  young buck wanna eat!!.. dat nigguh like I ain...   \n",
       "24781              youu got wild bitches tellin you lies   \n",
       "24782  ~~Ruffled | Ntac Eileen Dahlia - Beautiful col...   \n",
       "\n",
       "                                             clean tweet  \\\n",
       "0      exclamationmark mentionhere woman complain cle...   \n",
       "1      exclamationmark mentionhere boy dats cold tyga...   \n",
       "2      exclamationmark mentionhere dawg exclamationma...   \n",
       "3      exclamationmark mentionhere mentionhere look l...   \n",
       "4      exclamationmark mentionhere shit hear might tr...   \n",
       "...                                                  ...   \n",
       "24778  yous muthaf lie emoticonhere mentionhere menti...   \n",
       "24779    gone broke wrong heart baby drove redneck crazy   \n",
       "24780  young buck wanna eat exclamationmark dat niggu...   \n",
       "24781                  youu got wild bitches tellin lies   \n",
       "24782  ruffled ntac eileen dahlia beautiful color com...   \n",
       "\n",
       "                                           stemmed tweet  \n",
       "0      exclamationmark mentionhere woman complain cle...  \n",
       "1      exclamationmark mentionhere boy dat cold tyga ...  \n",
       "2      exclamationmark mentionhere dawg exclamationma...  \n",
       "3      exclamationmark mentionhere mentionhere look l...  \n",
       "4      exclamationmark mentionhere shit hear might tr...  \n",
       "...                                                  ...  \n",
       "24778  yous muthaf lie emoticonhere mentionhere menti...  \n",
       "24779      go broke wrong heart baby drove redneck crazy  \n",
       "24780  young buck wanna eat exclamationmark dat niggu...  \n",
       "24781                     youu get wild bitch tellin lie  \n",
       "24782  ruffle ntac eileen dahlia beautiful color comb...  \n",
       "\n",
       "[24783 rows x 9 columns]"
      ]
     },
     "execution_count": 14,
     "metadata": {},
     "output_type": "execute_result"
    }
   ],
   "source": [
    "df"
   ]
  },
  {
   "cell_type": "markdown",
   "id": "e24a5ac4",
   "metadata": {},
   "source": [
    "# Export Data to File"
   ]
  },
  {
   "cell_type": "code",
   "execution_count": 15,
   "id": "ef6e1eae",
   "metadata": {
    "ExecuteTime": {
     "end_time": "2022-03-24T10:35:23.134296Z",
     "start_time": "2022-03-24T10:35:22.824379Z"
    }
   },
   "outputs": [],
   "source": [
    "# Export data\n",
    "df.to_csv('parsed_data.csv', index=False)"
   ]
  },
  {
   "cell_type": "code",
   "execution_count": null,
   "id": "b8d0c512",
   "metadata": {},
   "outputs": [],
   "source": []
  }
 ],
 "metadata": {
  "kernelspec": {
   "display_name": "Python 3",
   "language": "python",
   "name": "python3"
  },
  "language_info": {
   "codemirror_mode": {
    "name": "ipython",
    "version": 3
   },
   "file_extension": ".py",
   "mimetype": "text/x-python",
   "name": "python",
   "nbconvert_exporter": "python",
   "pygments_lexer": "ipython3",
   "version": "3.6.13"
  },
  "toc": {
   "base_numbering": 1,
   "nav_menu": {},
   "number_sections": true,
   "sideBar": true,
   "skip_h1_title": false,
   "title_cell": "Table of Contents",
   "title_sidebar": "Contents",
   "toc_cell": false,
   "toc_position": {},
   "toc_section_display": true,
   "toc_window_display": true
  }
 },
 "nbformat": 4,
 "nbformat_minor": 5
}
