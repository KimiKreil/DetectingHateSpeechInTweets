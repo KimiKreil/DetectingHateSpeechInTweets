{
 "cells": [
  {
   "cell_type": "markdown",
   "id": "c4c6d999",
   "metadata": {},
   "source": [
    "# Load Libraries"
   ]
  },
  {
   "cell_type": "code",
   "execution_count": 32,
   "id": "4e8a51cf",
   "metadata": {
    "ExecuteTime": {
     "end_time": "2022-03-25T01:40:36.652881Z",
     "start_time": "2022-03-25T01:40:36.616309Z"
    }
   },
   "outputs": [],
   "source": [
    "# Standard\n",
    "import numpy as np\n",
    "import pandas as pd\n",
    "import matplotlib.pyplot as plt\n",
    "\n",
    "# Downsampling\n",
    "from sklearn.utils import resample\n",
    "\n",
    "# BoW Method\n",
    "from sklearn.feature_extraction.text import TfidfVectorizer\n",
    "\n",
    "# Model\n",
    "from sklearn.feature_selection import SelectFromModel\n",
    "from sklearn.model_selection import train_test_split\n",
    "from sklearn.svm import LinearSVC\n",
    "from sklearn.metrics import confusion_matrix, precision_score\n",
    "\n",
    "# Optimization\n",
    "from sklearn.model_selection import StratifiedKFold, GridSearchCV\n",
    "from sklearn.pipeline import Pipeline\n",
    "\n",
    "# Loading bar\n",
    "from tqdm.notebook import tqdm"
   ]
  },
  {
   "cell_type": "code",
   "execution_count": 2,
   "id": "3e7fed2e",
   "metadata": {
    "ExecuteTime": {
     "end_time": "2022-03-24T23:24:31.521449Z",
     "start_time": "2022-03-24T23:24:31.509935Z"
    }
   },
   "outputs": [],
   "source": [
    "# Define a dictionary to go between class indices and class names\n",
    "class_dict = { 'Hate Speech':0, 'Offensive Language':1, 'Neither':2 }\n",
    "class_dict_inv = {value: key for key, value in class_dict.items()}"
   ]
  },
  {
   "cell_type": "markdown",
   "id": "23b7a845",
   "metadata": {},
   "source": [
    "# Load Preprocessed Data with Features"
   ]
  },
  {
   "cell_type": "code",
   "execution_count": 3,
   "id": "9e53c571",
   "metadata": {
    "ExecuteTime": {
     "end_time": "2022-03-24T23:24:31.780026Z",
     "start_time": "2022-03-24T23:24:31.528251Z"
    }
   },
   "outputs": [],
   "source": [
    "df = pd.read_csv('parsed_data_with_features.csv')\n",
    "# Drop the few indices where FRE was nan\n",
    "df.dropna(axis='index', how='any', inplace=True)"
   ]
  },
  {
   "cell_type": "markdown",
   "id": "76707442",
   "metadata": {},
   "source": [
    "# Downsampling"
   ]
  },
  {
   "cell_type": "code",
   "execution_count": 4,
   "id": "a13c4fad",
   "metadata": {
    "ExecuteTime": {
     "end_time": "2022-03-24T23:24:31.842198Z",
     "start_time": "2022-03-24T23:24:31.805251Z"
    }
   },
   "outputs": [
    {
     "name": "stdout",
     "output_type": "stream",
     "text": [
      "The class with fewest tweets is: 0=Hate Speech\n",
      "This class contains: 1430 tweets\n"
     ]
    }
   ],
   "source": [
    "# Get the number of tweets for the class with fewest tweets\n",
    "N_hate = np.sum(df['class']==0)\n",
    "N_offensive = np.sum(df['class']==1)\n",
    "N_neither = np.sum(df['class']==2)\n",
    "\n",
    "class_names = ['Hate Speech', 'Offensive', 'Neither']\n",
    "smallest_class_idx = np.argmin([N_hate,N_offensive,N_neither])\n",
    "N_tweets_pr_class = np.array([N_hate,N_offensive,N_neither])[smallest_class_idx]\n",
    "\n",
    "print(f'The class with fewest tweets is: {smallest_class_idx}={class_names[smallest_class_idx]}')\n",
    "print(f'This class contains: {N_tweets_pr_class} tweets')"
   ]
  },
  {
   "cell_type": "code",
   "execution_count": 5,
   "id": "4e85c5d5",
   "metadata": {
    "ExecuteTime": {
     "end_time": "2022-03-24T23:24:31.894919Z",
     "start_time": "2022-03-24T23:24:31.861790Z"
    }
   },
   "outputs": [],
   "source": [
    "# Dataframe for Hate\n",
    "hate_mask = (df['class'] == 0)\n",
    "df_hate = df[hate_mask]\n",
    "\n",
    "# Random Sampling of the larger classes\n",
    "off_mask = (df['class'] == 1)\n",
    "df_off = df[off_mask].sample(n=N_tweets_pr_class, replace=False, random_state=1, axis=0)\n",
    "\n",
    "neither_mask = (df['class'] == 2)\n",
    "df_neither = df[neither_mask].sample(n=N_tweets_pr_class, replace=False, random_state=1, axis=0)\n",
    "\n",
    "# Put them together into a new dataframe\n",
    "df_downsampled = pd.concat([df_hate, df_off, df_neither], axis=0)\n",
    "df_downsampled.sort_values('Unnamed: 0', axis=0, ascending=True, inplace=True)"
   ]
  },
  {
   "cell_type": "markdown",
   "id": "22ded8a6",
   "metadata": {},
   "source": [
    "# Split Train/Test"
   ]
  },
  {
   "cell_type": "code",
   "execution_count": 6,
   "id": "06e48161",
   "metadata": {
    "ExecuteTime": {
     "end_time": "2022-03-24T23:24:31.988971Z",
     "start_time": "2022-03-24T23:24:31.944051Z"
    }
   },
   "outputs": [
    {
     "name": "stdout",
     "output_type": "stream",
     "text": [
      "------------------TRAIN------------------\n",
      "Total tweets: 3432\n",
      "Hate speech tweets: 1144 \t 33.33 %\n",
      "Offensive tweets: 1142 \t 33.28 %\n",
      "Neither tweets: 1146 \t\t 33.39 %\n",
      "\n",
      "\n",
      "------------------TEST-------------------\n",
      "Total tweets: 858\n",
      "Hate speech tweets: 286 \t 33.33 %\n",
      "Offensive tweets: 288 \t\t 33.57 %\n",
      "Neither tweets: 284 \t\t 33.10 %\n"
     ]
    }
   ],
   "source": [
    "# Extract X and Y\n",
    "X = df_downsampled[['stemmed tweet', 'sentiment score', 'FRE score']]\n",
    "Y = df_downsampled['class']\n",
    "\n",
    "# Define test size\n",
    "test_sz = 0.2\n",
    "\n",
    "# Split up the sample\n",
    "X_train, X_test, Y_train, Y_test = train_test_split(X, Y, test_size=test_sz, random_state=1)\n",
    "\n",
    "# Get stats from each sample\n",
    "print('------------------TRAIN------------------')\n",
    "print(f'Total tweets: {len(Y_train)}')\n",
    "print(f'Hate speech tweets: { np.sum(Y_train==0) } \\t {np.sum(Y_train==0)/len(Y_train)*100:.2f} %')\n",
    "print(f'Offensive tweets: { np.sum(Y_train==1) } \\t {np.sum(Y_train==1)/len(Y_train)*100:.2f} %')\n",
    "print(f'Neither tweets: { np.sum(Y_train==2) } \\t\\t {np.sum(Y_train==2)/len(Y_train)*100:.2f} %')\n",
    "print('\\n')\n",
    "print('------------------TEST-------------------')\n",
    "print(f'Total tweets: {len(Y_test)}')\n",
    "print(f'Hate speech tweets: { np.sum(Y_test==0) } \\t {np.sum(Y_test==0)/len(Y_test)*100:.2f} %')\n",
    "print(f'Offensive tweets: { np.sum(Y_test==1) } \\t\\t {np.sum(Y_test==1)/len(Y_test)*100:.2f} %')\n",
    "print(f'Neither tweets: { np.sum(Y_test==2) } \\t\\t {np.sum(Y_test==2)/len(Y_test)*100:.2f} %')"
   ]
  },
  {
   "cell_type": "markdown",
   "id": "ba74ed94",
   "metadata": {},
   "source": [
    "# TF-IDF on Train (.fit_transform) and Test (.transform)"
   ]
  },
  {
   "cell_type": "code",
   "execution_count": 7,
   "id": "17f3facc",
   "metadata": {
    "ExecuteTime": {
     "end_time": "2022-03-24T23:24:33.033379Z",
     "start_time": "2022-03-24T23:24:31.997238Z"
    }
   },
   "outputs": [],
   "source": [
    "# Initialise vectorizor\n",
    "vectorizer = TfidfVectorizer(analyzer='word')\n",
    "\n",
    "# Fit the vectorizor to the train data and transform the data accordingly\n",
    "# NOTICE we use only the stemmed tweets for this part (since this is what we count words in)\n",
    "Xt_train_tweets = vectorizer.fit_transform(X_train['stemmed tweet']).toarray()\n",
    "\n",
    "# Get a dictionary mapping terms to indices\n",
    "word_to_index = vectorizer.vocabulary_\n",
    "# Invert it\n",
    "index_to_word = {value: key for key, value in word_to_index.items()}\n",
    "# Make column names into words\n",
    "word_col_names = [ index_to_word[i] for i in np.arange(len(index_to_word)) ]\n",
    "# Create data frame with the right col names\n",
    "Xt_train_tweets = pd.DataFrame(Xt_train_tweets, columns=word_col_names, index=X_train['stemmed tweet'].index)\n",
    "\n",
    "# Concatenate with the other features\n",
    "other_features=['sentiment score', 'FRE score']\n",
    "Xt_train = pd.concat([ Xt_train_tweets, X_train[[*other_features]] ], axis=1)\n",
    "\n",
    "# Do the same on the test, but without the fitting part\n",
    "Xt_test_tweets = vectorizer.transform(X_test['stemmed tweet']).toarray()\n",
    "Xt_test_tweets = pd.DataFrame(Xt_test_tweets, columns=word_col_names, index=X_test['stemmed tweet'].index)\n",
    "Xt_test = pd.concat([ Xt_test_tweets, X_test[[*other_features]] ], axis=1)"
   ]
  },
  {
   "cell_type": "markdown",
   "id": "9c7f504f",
   "metadata": {},
   "source": [
    "# GridSearch"
   ]
  },
  {
   "cell_type": "code",
   "execution_count": 51,
   "id": "34076bb4",
   "metadata": {
    "ExecuteTime": {
     "end_time": "2022-03-25T03:20:41.845687Z",
     "start_time": "2022-03-25T02:30:28.491163Z"
    },
    "scrolled": false
   },
   "outputs": [
    {
     "name": "stderr",
     "output_type": "stream",
     "text": [
      "/anaconda3/lib/python3.6/site-packages/sklearn/svm/_base.py:986: ConvergenceWarning: Liblinear failed to converge, increase the number of iterations.\n",
      "  \"the number of iterations.\", ConvergenceWarning)\n",
      "/anaconda3/lib/python3.6/site-packages/sklearn/svm/_base.py:986: ConvergenceWarning: Liblinear failed to converge, increase the number of iterations.\n",
      "  \"the number of iterations.\", ConvergenceWarning)\n",
      "/anaconda3/lib/python3.6/site-packages/sklearn/svm/_base.py:986: ConvergenceWarning: Liblinear failed to converge, increase the number of iterations.\n",
      "  \"the number of iterations.\", ConvergenceWarning)\n",
      "/anaconda3/lib/python3.6/site-packages/sklearn/svm/_base.py:986: ConvergenceWarning: Liblinear failed to converge, increase the number of iterations.\n",
      "  \"the number of iterations.\", ConvergenceWarning)\n",
      "/anaconda3/lib/python3.6/site-packages/sklearn/svm/_base.py:986: ConvergenceWarning: Liblinear failed to converge, increase the number of iterations.\n",
      "  \"the number of iterations.\", ConvergenceWarning)\n",
      "/anaconda3/lib/python3.6/site-packages/sklearn/svm/_base.py:986: ConvergenceWarning: Liblinear failed to converge, increase the number of iterations.\n",
      "  \"the number of iterations.\", ConvergenceWarning)\n",
      "/anaconda3/lib/python3.6/site-packages/sklearn/svm/_base.py:986: ConvergenceWarning: Liblinear failed to converge, increase the number of iterations.\n",
      "  \"the number of iterations.\", ConvergenceWarning)\n"
     ]
    },
    {
     "name": "stdout",
     "output_type": "stream",
     "text": [
      "Grid Search: \tBest parameters:  {'model__C': 1.0} , Best scores: 0.779\n"
     ]
    },
    {
     "data": {
      "text/html": [
       "<div>\n",
       "<style scoped>\n",
       "    .dataframe tbody tr th:only-of-type {\n",
       "        vertical-align: middle;\n",
       "    }\n",
       "\n",
       "    .dataframe tbody tr th {\n",
       "        vertical-align: top;\n",
       "    }\n",
       "\n",
       "    .dataframe thead th {\n",
       "        text-align: right;\n",
       "    }\n",
       "</style>\n",
       "<table border=\"1\" class=\"dataframe\">\n",
       "  <thead>\n",
       "    <tr style=\"text-align: right;\">\n",
       "      <th></th>\n",
       "      <th>mean_fit_time</th>\n",
       "      <th>std_fit_time</th>\n",
       "      <th>mean_score_time</th>\n",
       "      <th>std_score_time</th>\n",
       "      <th>param_model__C</th>\n",
       "      <th>params</th>\n",
       "      <th>split0_test_score</th>\n",
       "      <th>split1_test_score</th>\n",
       "      <th>split2_test_score</th>\n",
       "      <th>mean_test_score</th>\n",
       "      <th>std_test_score</th>\n",
       "      <th>rank_test_score</th>\n",
       "      <th>split0_train_score</th>\n",
       "      <th>split1_train_score</th>\n",
       "      <th>split2_train_score</th>\n",
       "      <th>mean_train_score</th>\n",
       "      <th>std_train_score</th>\n",
       "    </tr>\n",
       "  </thead>\n",
       "  <tbody>\n",
       "    <tr>\n",
       "      <th>0</th>\n",
       "      <td>287.385912</td>\n",
       "      <td>19.909878</td>\n",
       "      <td>0.150915</td>\n",
       "      <td>0.030738</td>\n",
       "      <td>0.1</td>\n",
       "      <td>{'model__C': 0.1}</td>\n",
       "      <td>0.777835</td>\n",
       "      <td>0.783096</td>\n",
       "      <td>0.757872</td>\n",
       "      <td>0.772934</td>\n",
       "      <td>0.010865</td>\n",
       "      <td>2</td>\n",
       "      <td>0.861400</td>\n",
       "      <td>0.865328</td>\n",
       "      <td>0.874470</td>\n",
       "      <td>0.867066</td>\n",
       "      <td>0.005476</td>\n",
       "    </tr>\n",
       "    <tr>\n",
       "      <th>1</th>\n",
       "      <td>274.097834</td>\n",
       "      <td>32.003407</td>\n",
       "      <td>0.165632</td>\n",
       "      <td>0.047800</td>\n",
       "      <td>1</td>\n",
       "      <td>{'model__C': 1.0}</td>\n",
       "      <td>0.789209</td>\n",
       "      <td>0.791838</td>\n",
       "      <td>0.756972</td>\n",
       "      <td>0.779339</td>\n",
       "      <td>0.015853</td>\n",
       "      <td>1</td>\n",
       "      <td>0.992126</td>\n",
       "      <td>0.983376</td>\n",
       "      <td>0.985128</td>\n",
       "      <td>0.986877</td>\n",
       "      <td>0.003780</td>\n",
       "    </tr>\n",
       "    <tr>\n",
       "      <th>2</th>\n",
       "      <td>280.575302</td>\n",
       "      <td>42.989770</td>\n",
       "      <td>0.122006</td>\n",
       "      <td>0.000034</td>\n",
       "      <td>10</td>\n",
       "      <td>{'model__C': 10.0}</td>\n",
       "      <td>0.746380</td>\n",
       "      <td>0.748153</td>\n",
       "      <td>0.721985</td>\n",
       "      <td>0.738839</td>\n",
       "      <td>0.011940</td>\n",
       "      <td>3</td>\n",
       "      <td>0.998250</td>\n",
       "      <td>0.996061</td>\n",
       "      <td>0.995626</td>\n",
       "      <td>0.996646</td>\n",
       "      <td>0.001148</td>\n",
       "    </tr>\n",
       "  </tbody>\n",
       "</table>\n",
       "</div>"
      ],
      "text/plain": [
       "   mean_fit_time  std_fit_time  mean_score_time  std_score_time  \\\n",
       "0     287.385912     19.909878         0.150915        0.030738   \n",
       "1     274.097834     32.003407         0.165632        0.047800   \n",
       "2     280.575302     42.989770         0.122006        0.000034   \n",
       "\n",
       "  param_model__C              params  split0_test_score  split1_test_score  \\\n",
       "0            0.1   {'model__C': 0.1}           0.777835           0.783096   \n",
       "1              1   {'model__C': 1.0}           0.789209           0.791838   \n",
       "2             10  {'model__C': 10.0}           0.746380           0.748153   \n",
       "\n",
       "   split2_test_score  mean_test_score  std_test_score  rank_test_score  \\\n",
       "0           0.757872         0.772934        0.010865                2   \n",
       "1           0.756972         0.779339        0.015853                1   \n",
       "2           0.721985         0.738839        0.011940                3   \n",
       "\n",
       "   split0_train_score  split1_train_score  split2_train_score  \\\n",
       "0            0.861400            0.865328            0.874470   \n",
       "1            0.992126            0.983376            0.985128   \n",
       "2            0.998250            0.996061            0.995626   \n",
       "\n",
       "   mean_train_score  std_train_score  \n",
       "0          0.867066         0.005476  \n",
       "1          0.986877         0.003780  \n",
       "2          0.996646         0.001148  "
      ]
     },
     "execution_count": 51,
     "metadata": {},
     "output_type": "execute_result"
    }
   ],
   "source": [
    "# Define the pipeline including the selection method\n",
    "pipe = Pipeline([ ('selection', SelectFromModel(LinearSVC(class_weight='balanced', penalty='l2',\n",
    "                                                         loss='squared_hinge', multi_class='ovr',\n",
    "                                                         max_iter=1e6), threshold=0.05) ),\n",
    "                  ('model', LinearSVC(class_weight='balanced', penalty='l2', loss='squared_hinge',\n",
    "                                     multi_class='ovr')) ])\n",
    "\n",
    "# Define which parameters to investigate and in which interval\n",
    "parameters_GridSearch = {'model__C': np.array([0.1,1,10])}\n",
    "\n",
    "# Choose folds\n",
    "k = 3\n",
    "\n",
    "GridSearch = GridSearchCV(pipe,\n",
    "                          param_grid=parameters_GridSearch,\n",
    "                          cv=k,\n",
    "                          return_train_score=True,\n",
    "                          scoring='balanced_accuracy')\n",
    "\n",
    "# Fit the grid search instance\n",
    "GridSearch.fit(Xt_train, Y_train);\n",
    "\n",
    "# Get results\n",
    "GridSearch_results = pd.DataFrame(GridSearch.cv_results_)                 \n",
    "print(\"Grid Search: \\tBest parameters: \", GridSearch.best_params_, f\", Best scores: {GridSearch.best_score_:.3f}\")\n",
    "\n",
    "GridSearch_results.head(3)"
   ]
  },
  {
   "cell_type": "code",
   "execution_count": 46,
   "id": "5e71cd75",
   "metadata": {
    "ExecuteTime": {
     "end_time": "2022-03-25T01:56:13.488704Z",
     "start_time": "2022-03-25T01:56:13.481195Z"
    }
   },
   "outputs": [
    {
     "data": {
      "text/plain": [
       "dict_keys(['memory', 'steps', 'verbose', 'selection', 'model', 'selection__estimator__C', 'selection__estimator__class_weight', 'selection__estimator__dual', 'selection__estimator__fit_intercept', 'selection__estimator__intercept_scaling', 'selection__estimator__loss', 'selection__estimator__max_iter', 'selection__estimator__multi_class', 'selection__estimator__penalty', 'selection__estimator__random_state', 'selection__estimator__tol', 'selection__estimator__verbose', 'selection__estimator', 'selection__importance_getter', 'selection__max_features', 'selection__norm_order', 'selection__prefit', 'selection__threshold', 'model__C', 'model__class_weight', 'model__dual', 'model__fit_intercept', 'model__intercept_scaling', 'model__loss', 'model__max_iter', 'model__multi_class', 'model__penalty', 'model__random_state', 'model__tol', 'model__verbose'])"
      ]
     },
     "execution_count": 46,
     "metadata": {},
     "output_type": "execute_result"
    }
   ],
   "source": [
    "pipe.get_params().keys()"
   ]
  },
  {
   "cell_type": "markdown",
   "id": "10ef86ff",
   "metadata": {},
   "source": [
    "# Accuracy versus C"
   ]
  },
  {
   "cell_type": "code",
   "execution_count": null,
   "id": "44c7e5eb",
   "metadata": {},
   "outputs": [],
   "source": [
    "# Wrapper Function for producing the model, selecting best features, returning the precision\n",
    "def master_func(C_val):\n",
    "    \"\"\"\n",
    "    C_param = value to chose for the regularization parameter C\n",
    "    thres = the threshold to use for the SelectFromModel function\n",
    "    \n",
    "    \"\"\"\n",
    "    # Initialise model -----------------------------------\n",
    "    model_test = LinearSVC(class_weight='balanced',C=C_val, penalty='l2', loss='squared_hinge',\n",
    "                           multi_class='ovr', max_iter=1e4).fit(Xt_train, Y_train)\n",
    "    \n",
    "    # Drop worst features --------------------------------\n",
    "    \n",
    "    # SelectFromModel finds best features\n",
    "    selector = SelectFromModel(model_test, prefit = True, threshold='0.3*mean')\n",
    "\n",
    "    # Get a mask for extracting the chosen feature names\n",
    "    mask = selector.get_support()\n",
    "    best_feature_names = Xt_train.columns.values[mask]\n",
    "\n",
    "    # Transform tweets by removing unwanted features\n",
    "    Xt_train_best = selector.transform(Xt_train)\n",
    "    Xt_test_best = selector.transform(Xt_test)\n",
    "\n",
    "    # Make pandas with column names\n",
    "    Xt_train_best = pd.DataFrame(Xt_train_best, columns=best_feature_names, index=X_train['stemmed tweet'].index)\n",
    "    Xt_test_best = pd.DataFrame(Xt_test_best, columns=best_feature_names, index=X_test['stemmed tweet'].index)\n",
    "\n",
    "    # Print how many is removed\n",
    "    print(f'We have removed {len(Xt_train.columns)-len(Xt_train_best.columns)} features.')\n",
    "    print(f'The total number of parameters is now {len(Xt_train_best.columns)}')\n",
    "    \n",
    "    # Train model -----------------------------------------\n",
    "    # Initialise model\n",
    "    model = LinearSVC(class_weight='balanced',C=0.1, penalty='l2', loss='squared_hinge', multi_class='ovr', max_iter=1e5)\n",
    "    model.fit(Xt_train_best, Y_train)\n",
    "\n",
    "    # Make predictions on the train data\n",
    "    Y_train_preds = model.predict(Xt_train_best)\n",
    "    \n",
    "    # Model on Test ---------------------------------------\n",
    "    # Make predictions on the test data\n",
    "    Y_test_preds = model.predict(Xt_test_best)\n",
    "    \n",
    "    # Compute precisions (for each class) -----------------\n",
    "    p_train = precision_score(Y_train, Y_train_preds, average=None)\n",
    "    p_test = precision_score(Y_test, Y_test_preds, average=None)\n",
    "    \n",
    "    return p_train, p_test"
   ]
  },
  {
   "cell_type": "code",
   "execution_count": 29,
   "id": "c2ae7a4a",
   "metadata": {
    "ExecuteTime": {
     "end_time": "2022-03-24T23:39:54.403623Z",
     "start_time": "2022-03-24T23:39:46.503531Z"
    }
   },
   "outputs": [
    {
     "name": "stderr",
     "output_type": "stream",
     "text": [
      "/anaconda3/lib/python3.6/site-packages/sklearn/svm/_base.py:986: ConvergenceWarning: Liblinear failed to converge, increase the number of iterations.\n",
      "  \"the number of iterations.\", ConvergenceWarning)\n"
     ]
    },
    {
     "name": "stdout",
     "output_type": "stream",
     "text": [
      "We have removed 421 features.\n",
      "The total number of parameters is now 5675\n"
     ]
    },
    {
     "data": {
      "text/plain": [
       "(array([0.8822335 , 0.8576481 , 0.85258359]),\n",
       " array([0.7704918 , 0.75170068, 0.79375   ]))"
      ]
     },
     "execution_count": 29,
     "metadata": {},
     "output_type": "execute_result"
    }
   ],
   "source": [
    "master_func(C_val=0.1)"
   ]
  },
  {
   "cell_type": "code",
   "execution_count": 30,
   "id": "cef86af7",
   "metadata": {
    "ExecuteTime": {
     "end_time": "2022-03-24T23:41:52.675029Z",
     "start_time": "2022-03-24T23:39:54.406988Z"
    },
    "scrolled": false
   },
   "outputs": [
    {
     "data": {
      "application/vnd.jupyter.widget-view+json": {
       "model_id": "c2be5e8a0bc240dc9014fce67530d09f",
       "version_major": 2,
       "version_minor": 0
      },
      "text/plain": [
       "  0%|          | 0/10 [00:00<?, ?it/s]"
      ]
     },
     "metadata": {},
     "output_type": "display_data"
    },
    {
     "name": "stderr",
     "output_type": "stream",
     "text": [
      "/anaconda3/lib/python3.6/site-packages/sklearn/svm/_base.py:986: ConvergenceWarning: Liblinear failed to converge, increase the number of iterations.\n",
      "  \"the number of iterations.\", ConvergenceWarning)\n"
     ]
    },
    {
     "name": "stdout",
     "output_type": "stream",
     "text": [
      "We have removed 399 features.\n",
      "The total number of parameters is now 5697\n"
     ]
    },
    {
     "name": "stderr",
     "output_type": "stream",
     "text": [
      "/anaconda3/lib/python3.6/site-packages/sklearn/svm/_base.py:986: ConvergenceWarning: Liblinear failed to converge, increase the number of iterations.\n",
      "  \"the number of iterations.\", ConvergenceWarning)\n"
     ]
    },
    {
     "name": "stdout",
     "output_type": "stream",
     "text": [
      "We have removed 842 features.\n",
      "The total number of parameters is now 5254\n"
     ]
    },
    {
     "name": "stderr",
     "output_type": "stream",
     "text": [
      "/anaconda3/lib/python3.6/site-packages/sklearn/svm/_base.py:986: ConvergenceWarning: Liblinear failed to converge, increase the number of iterations.\n",
      "  \"the number of iterations.\", ConvergenceWarning)\n"
     ]
    },
    {
     "name": "stdout",
     "output_type": "stream",
     "text": [
      "We have removed 852 features.\n",
      "The total number of parameters is now 5244\n"
     ]
    },
    {
     "name": "stderr",
     "output_type": "stream",
     "text": [
      "/anaconda3/lib/python3.6/site-packages/sklearn/svm/_base.py:986: ConvergenceWarning: Liblinear failed to converge, increase the number of iterations.\n",
      "  \"the number of iterations.\", ConvergenceWarning)\n"
     ]
    },
    {
     "name": "stdout",
     "output_type": "stream",
     "text": [
      "We have removed 855 features.\n",
      "The total number of parameters is now 5241\n"
     ]
    },
    {
     "name": "stderr",
     "output_type": "stream",
     "text": [
      "/anaconda3/lib/python3.6/site-packages/sklearn/svm/_base.py:986: ConvergenceWarning: Liblinear failed to converge, increase the number of iterations.\n",
      "  \"the number of iterations.\", ConvergenceWarning)\n"
     ]
    },
    {
     "name": "stdout",
     "output_type": "stream",
     "text": [
      "We have removed 858 features.\n",
      "The total number of parameters is now 5238\n"
     ]
    },
    {
     "name": "stderr",
     "output_type": "stream",
     "text": [
      "/anaconda3/lib/python3.6/site-packages/sklearn/svm/_base.py:986: ConvergenceWarning: Liblinear failed to converge, increase the number of iterations.\n",
      "  \"the number of iterations.\", ConvergenceWarning)\n"
     ]
    },
    {
     "name": "stdout",
     "output_type": "stream",
     "text": [
      "We have removed 858 features.\n",
      "The total number of parameters is now 5238\n"
     ]
    },
    {
     "name": "stderr",
     "output_type": "stream",
     "text": [
      "/anaconda3/lib/python3.6/site-packages/sklearn/svm/_base.py:986: ConvergenceWarning: Liblinear failed to converge, increase the number of iterations.\n",
      "  \"the number of iterations.\", ConvergenceWarning)\n"
     ]
    },
    {
     "name": "stdout",
     "output_type": "stream",
     "text": [
      "We have removed 856 features.\n",
      "The total number of parameters is now 5240\n"
     ]
    },
    {
     "name": "stderr",
     "output_type": "stream",
     "text": [
      "/anaconda3/lib/python3.6/site-packages/sklearn/svm/_base.py:986: ConvergenceWarning: Liblinear failed to converge, increase the number of iterations.\n",
      "  \"the number of iterations.\", ConvergenceWarning)\n"
     ]
    },
    {
     "name": "stdout",
     "output_type": "stream",
     "text": [
      "We have removed 858 features.\n",
      "The total number of parameters is now 5238\n"
     ]
    },
    {
     "name": "stderr",
     "output_type": "stream",
     "text": [
      "/anaconda3/lib/python3.6/site-packages/sklearn/svm/_base.py:986: ConvergenceWarning: Liblinear failed to converge, increase the number of iterations.\n",
      "  \"the number of iterations.\", ConvergenceWarning)\n"
     ]
    },
    {
     "name": "stdout",
     "output_type": "stream",
     "text": [
      "We have removed 856 features.\n",
      "The total number of parameters is now 5240\n"
     ]
    },
    {
     "name": "stderr",
     "output_type": "stream",
     "text": [
      "/anaconda3/lib/python3.6/site-packages/sklearn/svm/_base.py:986: ConvergenceWarning: Liblinear failed to converge, increase the number of iterations.\n",
      "  \"the number of iterations.\", ConvergenceWarning)\n"
     ]
    },
    {
     "name": "stdout",
     "output_type": "stream",
     "text": [
      "We have removed 857 features.\n",
      "The total number of parameters is now 5239\n"
     ]
    }
   ],
   "source": [
    "# Array of C's to try\n",
    "N_search = 10\n",
    "C_arr = np.linspace(0.01, 100, N_search)\n",
    "\n",
    "# Empty array to store train and test precisions\n",
    "p_train_arr = np.zeros( (3,N_search) )\n",
    "p_test_arr = np.zeros( (3,N_search) )\n",
    "\n",
    "# Loop\n",
    "for i in tqdm(range(N_search)):\n",
    "    \n",
    "    # Compute precisions\n",
    "    p_tr, p_te = master_func(C_arr[i])\n",
    "    \n",
    "    # Store vals\n",
    "    p_train_arr[:,i] = p_tr\n",
    "    p_test_arr[:,i] = p_te"
   ]
  },
  {
   "cell_type": "code",
   "execution_count": 31,
   "id": "43c329cf",
   "metadata": {
    "ExecuteTime": {
     "end_time": "2022-03-24T23:43:46.180946Z",
     "start_time": "2022-03-24T23:43:45.837668Z"
    }
   },
   "outputs": [
    {
     "data": {
      "text/plain": [
       "<matplotlib.legend.Legend at 0x1a263fce80>"
      ]
     },
     "execution_count": 31,
     "metadata": {},
     "output_type": "execute_result"
    },
    {
     "data": {
      "image/png": "[encoded data removed]",
      "text/plain": [
       "<Figure size 864x432 with 1 Axes>"
      ]
     },
     "metadata": {
      "needs_background": "light"
     },
     "output_type": "display_data"
    }
   ],
   "source": [
    "# Plotting\n",
    "fig, ax = plt.subplots(figsize=(12,6))\n",
    "colors = ['blue', 'red', 'green']\n",
    "\n",
    "for i in range(3):\n",
    "\n",
    "    ax.plot(C_arr, p_train_arr[i], color=colors[i], label=f'{class_dict_inv[i]} Precision (TRAIN)')\n",
    "    ax.plot(C_arr, p_test_arr[i], color=colors[i], alpha=0.5, label=f'{class_dict_inv[i]} Precision (TEST)')\n",
    "\n",
    "ax.legend()"
   ]
  },
  {
   "cell_type": "code",
   "execution_count": null,
   "id": "35e3c0ff",
   "metadata": {},
   "outputs": [],
   "source": [
    " "
   ]
  }
 ],
 "metadata": {
  "kernelspec": {
   "display_name": "Python 3",
   "language": "python",
   "name": "python3"
  },
  "language_info": {
   "codemirror_mode": {
    "name": "ipython",
    "version": 3
   },
   "file_extension": ".py",
   "mimetype": "text/x-python",
   "name": "python",
   "nbconvert_exporter": "python",
   "pygments_lexer": "ipython3",
   "version": "3.6.13"
  },
  "toc": {
   "base_numbering": 1,
   "nav_menu": {},
   "number_sections": true,
   "sideBar": true,
   "skip_h1_title": false,
   "title_cell": "Table of Contents",
   "title_sidebar": "Contents",
   "toc_cell": false,
   "toc_position": {},
   "toc_section_display": true,
   "toc_window_display": true
  }
 },
 "nbformat": 4,
 "nbformat_minor": 5
}
