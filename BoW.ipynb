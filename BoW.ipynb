{
 "cells": [
  {
   "cell_type": "markdown",
   "id": "b36041e8",
   "metadata": {},
   "source": [
    "# Load Libraries"
   ]
  },
  {
   "cell_type": "code",
   "execution_count": 1,
   "id": "738faeed",
   "metadata": {
    "ExecuteTime": {
     "end_time": "2022-03-25T12:17:41.293112Z",
     "start_time": "2022-03-25T12:17:36.628689Z"
    }
   },
   "outputs": [],
   "source": [
    "# Standard\n",
    "import numpy as np\n",
    "import pandas as pd\n",
    "import matplotlib.pyplot as plt\n",
    "\n",
    "# Downsampling\n",
    "from sklearn.utils import resample\n",
    "\n",
    "# BoW Method\n",
    "from sklearn.feature_extraction.text import CountVectorizer\n",
    "\n",
    "# Model\n",
    "from sklearn.feature_selection import SelectFromModel\n",
    "from sklearn.model_selection import train_test_split\n",
    "from sklearn.svm import LinearSVC\n",
    "from sklearn.metrics import confusion_matrix, precision_score, classification_report"
   ]
  },
  {
   "cell_type": "code",
   "execution_count": 2,
   "id": "dd6723b9",
   "metadata": {
    "ExecuteTime": {
     "end_time": "2022-03-25T12:17:41.302484Z",
     "start_time": "2022-03-25T12:17:41.295911Z"
    }
   },
   "outputs": [],
   "source": [
    "# Define a dictionary to go between class indices and class names\n",
    "class_dict = { 'Hate Speech':0, 'Offensive Language':1, 'Neither':2 }\n",
    "class_dict_inv = {value: key for key, value in class_dict.items()}"
   ]
  },
  {
   "cell_type": "markdown",
   "id": "ea84dd4e",
   "metadata": {},
   "source": [
    "# Load Preprocessed Data with Features"
   ]
  },
  {
   "cell_type": "code",
   "execution_count": 3,
   "id": "1e5b0a0b",
   "metadata": {
    "ExecuteTime": {
     "end_time": "2022-03-25T12:17:41.465355Z",
     "start_time": "2022-03-25T12:17:41.305466Z"
    }
   },
   "outputs": [],
   "source": [
    "df = pd.read_csv('parsed_data_with_features.csv')"
   ]
  },
  {
   "cell_type": "markdown",
   "id": "87216e72",
   "metadata": {},
   "source": [
    "There are two FRE scores that are NaNs, we should explore why, but for now we simply remove them."
   ]
  },
  {
   "cell_type": "code",
   "execution_count": 4,
   "id": "17aa80d5",
   "metadata": {
    "ExecuteTime": {
     "end_time": "2022-03-25T12:17:41.525954Z",
     "start_time": "2022-03-25T12:17:41.468086Z"
    }
   },
   "outputs": [
    {
     "data": {
      "text/html": [
       "<div>\n",
       "<style scoped>\n",
       "    .dataframe tbody tr th:only-of-type {\n",
       "        vertical-align: middle;\n",
       "    }\n",
       "\n",
       "    .dataframe tbody tr th {\n",
       "        vertical-align: top;\n",
       "    }\n",
       "\n",
       "    .dataframe thead th {\n",
       "        text-align: right;\n",
       "    }\n",
       "</style>\n",
       "<table border=\"1\" class=\"dataframe\">\n",
       "  <thead>\n",
       "    <tr style=\"text-align: right;\">\n",
       "      <th></th>\n",
       "      <th>Unnamed: 0</th>\n",
       "      <th>count</th>\n",
       "      <th>hate_speech</th>\n",
       "      <th>offensive_language</th>\n",
       "      <th>neither</th>\n",
       "      <th>class</th>\n",
       "      <th>tweet</th>\n",
       "      <th>clean tweet</th>\n",
       "      <th>stemmed tweet</th>\n",
       "      <th>sentiment score</th>\n",
       "      <th>FRE score</th>\n",
       "    </tr>\n",
       "  </thead>\n",
       "  <tbody>\n",
       "    <tr>\n",
       "      <th>0</th>\n",
       "      <td>0</td>\n",
       "      <td>3</td>\n",
       "      <td>0</td>\n",
       "      <td>0</td>\n",
       "      <td>3</td>\n",
       "      <td>2</td>\n",
       "      <td>!!! RT @mayasolovely: As a woman you shouldn't...</td>\n",
       "      <td>exclamationmark mentionhere woman complain cle...</td>\n",
       "      <td>exclamationmark mentionhere woman complain cle...</td>\n",
       "      <td>-0.3612</td>\n",
       "      <td>71.815000</td>\n",
       "    </tr>\n",
       "    <tr>\n",
       "      <th>1</th>\n",
       "      <td>1</td>\n",
       "      <td>3</td>\n",
       "      <td>0</td>\n",
       "      <td>3</td>\n",
       "      <td>0</td>\n",
       "      <td>1</td>\n",
       "      <td>!!!!! RT @mleew17: boy dats cold...tyga dwn ba...</td>\n",
       "      <td>exclamationmark mentionhere boy dats cold tyga...</td>\n",
       "      <td>exclamationmark mentionhere boy dat cold tyga ...</td>\n",
       "      <td>-0.5423</td>\n",
       "      <td>126.451818</td>\n",
       "    </tr>\n",
       "    <tr>\n",
       "      <th>2</th>\n",
       "      <td>2</td>\n",
       "      <td>3</td>\n",
       "      <td>0</td>\n",
       "      <td>3</td>\n",
       "      <td>0</td>\n",
       "      <td>1</td>\n",
       "      <td>!!!!!!! RT @UrKindOfBrand Dawg!!!! RT @80sbaby...</td>\n",
       "      <td>exclamationmark mentionhere dawg exclamationma...</td>\n",
       "      <td>exclamationmark mentionhere dawg exclamationma...</td>\n",
       "      <td>-0.9423</td>\n",
       "      <td>103.540000</td>\n",
       "    </tr>\n",
       "    <tr>\n",
       "      <th>3</th>\n",
       "      <td>3</td>\n",
       "      <td>3</td>\n",
       "      <td>0</td>\n",
       "      <td>2</td>\n",
       "      <td>1</td>\n",
       "      <td>1</td>\n",
       "      <td>!!!!!!!!! RT @C_G_Anderson: @viva_based she lo...</td>\n",
       "      <td>exclamationmark mentionhere mentionhere look l...</td>\n",
       "      <td>exclamationmark mentionhere mentionhere look l...</td>\n",
       "      <td>0.3612</td>\n",
       "      <td>119.190000</td>\n",
       "    </tr>\n",
       "    <tr>\n",
       "      <th>4</th>\n",
       "      <td>4</td>\n",
       "      <td>6</td>\n",
       "      <td>0</td>\n",
       "      <td>6</td>\n",
       "      <td>0</td>\n",
       "      <td>1</td>\n",
       "      <td>!!!!!!!!!!!!! RT @ShenikaRoberts: The shit you...</td>\n",
       "      <td>exclamationmark mentionhere shit hear might tr...</td>\n",
       "      <td>exclamationmark mentionhere shit hear might tr...</td>\n",
       "      <td>-0.6808</td>\n",
       "      <td>113.100000</td>\n",
       "    </tr>\n",
       "    <tr>\n",
       "      <th>...</th>\n",
       "      <td>...</td>\n",
       "      <td>...</td>\n",
       "      <td>...</td>\n",
       "      <td>...</td>\n",
       "      <td>...</td>\n",
       "      <td>...</td>\n",
       "      <td>...</td>\n",
       "      <td>...</td>\n",
       "      <td>...</td>\n",
       "      <td>...</td>\n",
       "      <td>...</td>\n",
       "    </tr>\n",
       "    <tr>\n",
       "      <th>24778</th>\n",
       "      <td>25291</td>\n",
       "      <td>3</td>\n",
       "      <td>0</td>\n",
       "      <td>2</td>\n",
       "      <td>1</td>\n",
       "      <td>1</td>\n",
       "      <td>you's a muthaf***in lie &amp;#8220;@LifeAsKing: @2...</td>\n",
       "      <td>yous muthaf lie emoticonhere mentionhere menti...</td>\n",
       "      <td>yous muthaf lie emoticonhere mentionhere menti...</td>\n",
       "      <td>0.0000</td>\n",
       "      <td>129.005000</td>\n",
       "    </tr>\n",
       "    <tr>\n",
       "      <th>24779</th>\n",
       "      <td>25292</td>\n",
       "      <td>3</td>\n",
       "      <td>0</td>\n",
       "      <td>1</td>\n",
       "      <td>2</td>\n",
       "      <td>2</td>\n",
       "      <td>you've gone and broke the wrong heart baby, an...</td>\n",
       "      <td>gone broke wrong heart baby drove redneck crazy</td>\n",
       "      <td>go broke wrong heart baby drove redneck crazy</td>\n",
       "      <td>-0.8074</td>\n",
       "      <td>103.540000</td>\n",
       "    </tr>\n",
       "    <tr>\n",
       "      <th>24780</th>\n",
       "      <td>25294</td>\n",
       "      <td>3</td>\n",
       "      <td>0</td>\n",
       "      <td>3</td>\n",
       "      <td>0</td>\n",
       "      <td>1</td>\n",
       "      <td>young buck wanna eat!!.. dat nigguh like I ain...</td>\n",
       "      <td>young buck wanna eat exclamationmark dat niggu...</td>\n",
       "      <td>young buck wanna eat exclamationmark dat niggu...</td>\n",
       "      <td>0.3612</td>\n",
       "      <td>86.705000</td>\n",
       "    </tr>\n",
       "    <tr>\n",
       "      <th>24781</th>\n",
       "      <td>25295</td>\n",
       "      <td>6</td>\n",
       "      <td>0</td>\n",
       "      <td>6</td>\n",
       "      <td>0</td>\n",
       "      <td>1</td>\n",
       "      <td>youu got wild bitches tellin you lies</td>\n",
       "      <td>youu got wild bitches tellin lies</td>\n",
       "      <td>youu get wild bitch tellin lie</td>\n",
       "      <td>-0.5859</td>\n",
       "      <td>116.145000</td>\n",
       "    </tr>\n",
       "    <tr>\n",
       "      <th>24782</th>\n",
       "      <td>25296</td>\n",
       "      <td>3</td>\n",
       "      <td>0</td>\n",
       "      <td>0</td>\n",
       "      <td>3</td>\n",
       "      <td>2</td>\n",
       "      <td>~~Ruffled | Ntac Eileen Dahlia - Beautiful col...</td>\n",
       "      <td>ruffled ntac eileen dahlia beautiful color com...</td>\n",
       "      <td>ruffle ntac eileen dahlia beautiful color comb...</td>\n",
       "      <td>0.5994</td>\n",
       "      <td>46.605000</td>\n",
       "    </tr>\n",
       "  </tbody>\n",
       "</table>\n",
       "<p>24781 rows × 11 columns</p>\n",
       "</div>"
      ],
      "text/plain": [
       "       Unnamed: 0  count  hate_speech  offensive_language  neither  class  \\\n",
       "0               0      3            0                   0        3      2   \n",
       "1               1      3            0                   3        0      1   \n",
       "2               2      3            0                   3        0      1   \n",
       "3               3      3            0                   2        1      1   \n",
       "4               4      6            0                   6        0      1   \n",
       "...           ...    ...          ...                 ...      ...    ...   \n",
       "24778       25291      3            0                   2        1      1   \n",
       "24779       25292      3            0                   1        2      2   \n",
       "24780       25294      3            0                   3        0      1   \n",
       "24781       25295      6            0                   6        0      1   \n",
       "24782       25296      3            0                   0        3      2   \n",
       "\n",
       "                                                   tweet  \\\n",
       "0      !!! RT @mayasolovely: As a woman you shouldn't...   \n",
       "1      !!!!! RT @mleew17: boy dats cold...tyga dwn ba...   \n",
       "2      !!!!!!! RT @UrKindOfBrand Dawg!!!! RT @80sbaby...   \n",
       "3      !!!!!!!!! RT @C_G_Anderson: @viva_based she lo...   \n",
       "4      !!!!!!!!!!!!! RT @ShenikaRoberts: The shit you...   \n",
       "...                                                  ...   \n",
       "24778  you's a muthaf***in lie &#8220;@LifeAsKing: @2...   \n",
       "24779  you've gone and broke the wrong heart baby, an...   \n",
       "24780  young buck wanna eat!!.. dat nigguh like I ain...   \n",
       "24781              youu got wild bitches tellin you lies   \n",
       "24782  ~~Ruffled | Ntac Eileen Dahlia - Beautiful col...   \n",
       "\n",
       "                                             clean tweet  \\\n",
       "0      exclamationmark mentionhere woman complain cle...   \n",
       "1      exclamationmark mentionhere boy dats cold tyga...   \n",
       "2      exclamationmark mentionhere dawg exclamationma...   \n",
       "3      exclamationmark mentionhere mentionhere look l...   \n",
       "4      exclamationmark mentionhere shit hear might tr...   \n",
       "...                                                  ...   \n",
       "24778  yous muthaf lie emoticonhere mentionhere menti...   \n",
       "24779    gone broke wrong heart baby drove redneck crazy   \n",
       "24780  young buck wanna eat exclamationmark dat niggu...   \n",
       "24781                  youu got wild bitches tellin lies   \n",
       "24782  ruffled ntac eileen dahlia beautiful color com...   \n",
       "\n",
       "                                           stemmed tweet  sentiment score  \\\n",
       "0      exclamationmark mentionhere woman complain cle...          -0.3612   \n",
       "1      exclamationmark mentionhere boy dat cold tyga ...          -0.5423   \n",
       "2      exclamationmark mentionhere dawg exclamationma...          -0.9423   \n",
       "3      exclamationmark mentionhere mentionhere look l...           0.3612   \n",
       "4      exclamationmark mentionhere shit hear might tr...          -0.6808   \n",
       "...                                                  ...              ...   \n",
       "24778  yous muthaf lie emoticonhere mentionhere menti...           0.0000   \n",
       "24779      go broke wrong heart baby drove redneck crazy          -0.8074   \n",
       "24780  young buck wanna eat exclamationmark dat niggu...           0.3612   \n",
       "24781                     youu get wild bitch tellin lie          -0.5859   \n",
       "24782  ruffle ntac eileen dahlia beautiful color comb...           0.5994   \n",
       "\n",
       "        FRE score  \n",
       "0       71.815000  \n",
       "1      126.451818  \n",
       "2      103.540000  \n",
       "3      119.190000  \n",
       "4      113.100000  \n",
       "...           ...  \n",
       "24778  129.005000  \n",
       "24779  103.540000  \n",
       "24780   86.705000  \n",
       "24781  116.145000  \n",
       "24782   46.605000  \n",
       "\n",
       "[24781 rows x 11 columns]"
      ]
     },
     "execution_count": 4,
     "metadata": {},
     "output_type": "execute_result"
    }
   ],
   "source": [
    "df.dropna(axis='index', how='any', inplace=True)\n",
    "df"
   ]
  },
  {
   "cell_type": "markdown",
   "id": "f950a248",
   "metadata": {},
   "source": [
    "# Downsampling\n",
    "Right now the classes are not balanced, which could lead to problems for the classifier, weighting something more than other. For example classifying everything as offensive seems to be a good strategy for obtaining a high precision immediately. To avoid this we want to downsample, since we are not able to upsample, wihtout scraping new twitter data and crowdsourcing the classification resulting in the true samples. The downsampling means we will reduce the data we use, so we have equal number of tweets in each class."
   ]
  },
  {
   "cell_type": "code",
   "execution_count": 5,
   "id": "c52b5de8",
   "metadata": {
    "ExecuteTime": {
     "end_time": "2022-03-25T12:17:41.542152Z",
     "start_time": "2022-03-25T12:17:41.529034Z"
    }
   },
   "outputs": [
    {
     "name": "stdout",
     "output_type": "stream",
     "text": [
      "The class with fewest tweets is: 0=Hate Speech\n",
      "This class contains: 1430 tweets\n"
     ]
    }
   ],
   "source": [
    "# Get the number of tweets for the class with fewest tweets\n",
    "N_hate = np.sum(df['class']==0)\n",
    "N_offensive = np.sum(df['class']==1)\n",
    "N_neither = np.sum(df['class']==2)\n",
    "\n",
    "class_names = ['Hate Speech', 'Offensive', 'Neither']\n",
    "smallest_class_idx = np.argmin([N_hate,N_offensive,N_neither])\n",
    "N_tweets_pr_class = np.array([N_hate,N_offensive,N_neither])[smallest_class_idx]\n",
    "\n",
    "print(f'The class with fewest tweets is: {smallest_class_idx}={class_names[smallest_class_idx]}')\n",
    "print(f'This class contains: {N_tweets_pr_class} tweets')"
   ]
  },
  {
   "cell_type": "code",
   "execution_count": 6,
   "id": "f877527e",
   "metadata": {
    "ExecuteTime": {
     "end_time": "2022-03-25T12:17:41.568055Z",
     "start_time": "2022-03-25T12:17:41.544558Z"
    }
   },
   "outputs": [],
   "source": [
    "# Dataframe for Hate\n",
    "hate_mask = (df['class'] == 0)\n",
    "df_hate = df[hate_mask]\n",
    "\n",
    "# Random Sampling of the larger classes\n",
    "off_mask = (df['class'] == 1)\n",
    "df_off = df[off_mask].sample(n=N_tweets_pr_class, replace=False, random_state=1, axis=0)\n",
    "\n",
    "neither_mask = (df['class'] == 2)\n",
    "df_neither = df[neither_mask].sample(n=N_tweets_pr_class, replace=False, random_state=1, axis=0)\n",
    "\n",
    "# Put them together into a new dataframe\n",
    "df_downsampled = pd.concat([df_hate, df_off, df_neither], axis=0)\n",
    "df_downsampled.sort_values('Unnamed: 0', axis=0, ascending=True, inplace=True)"
   ]
  },
  {
   "cell_type": "code",
   "execution_count": 7,
   "id": "bdce9742",
   "metadata": {
    "ExecuteTime": {
     "end_time": "2022-03-25T12:17:41.903779Z",
     "start_time": "2022-03-25T12:17:41.569931Z"
    }
   },
   "outputs": [
    {
     "data": {
      "image/png": "[encoded data removed]",
      "text/plain": [
       "<Figure size 576x360 with 1 Axes>"
      ]
     },
     "metadata": {
      "needs_background": "light"
     },
     "output_type": "display_data"
    }
   ],
   "source": [
    "# Plot how many of each class we have\n",
    "fig, ax = plt.subplots(figsize=(8,5))\n",
    "\n",
    "ax.set_facecolor('gainsboro')\n",
    "ax.grid(color='white')\n",
    "\n",
    "# Current sample\n",
    "ax.hist(df['class'], bins=np.arange(-0.5,2.5+1, 1), color='purple', alpha=0.5, zorder=2, label='Full Sample')\n",
    "\n",
    "# Downsampled sample\n",
    "ax.hist(df_downsampled['class'], bins=np.arange(-0.5,2.5+1, 1), color='purple', zorder=3, \n",
    "        histtype='step', linewidth=3, label='Downsampled')\n",
    "\n",
    "ax.legend(prop={'size':13})\n",
    "plt.xticks([0,1,2], labels=['Hate \\nSpeech', 'Offensive \\nLanguage', 'Neither'], fontsize=20)\n",
    "plt.yticks([5000, 10000, 15000, 20000],['5k','10k','15k','20k'], fontsize=15)\n",
    "ax.set_ylabel('Number of Tweets', fontsize=20)\n",
    "ax.set_title('Distribution of Class Instances', fontsize=22)\n",
    "plt.show()"
   ]
  },
  {
   "cell_type": "markdown",
   "id": "7229d937",
   "metadata": {},
   "source": [
    "# Split into Train and Test Data\n",
    "X should be shape (n_samples, n_features) and contains all the parameters:\n",
    "- the parsed tweet\n",
    "- the sentiment score\n",
    "- the FRE score\n",
    "Y should be shape (n_samples,) and containes the labels, in this case the 'class' column\n",
    "\n",
    "These will be split in the same way into a train and a test sample with the same shapes but fewer samples in each."
   ]
  },
  {
   "cell_type": "code",
   "execution_count": 8,
   "id": "3f1c5979",
   "metadata": {
    "ExecuteTime": {
     "end_time": "2022-03-25T12:17:41.945128Z",
     "start_time": "2022-03-25T12:17:41.909771Z"
    }
   },
   "outputs": [
    {
     "name": "stdout",
     "output_type": "stream",
     "text": [
      "------------------TRAIN------------------\n",
      "Total tweets: 3432\n",
      "Hate speech tweets: 1144 \t 33.33 %\n",
      "Offensive tweets: 1142 \t 33.28 %\n",
      "Neither tweets: 1146 \t\t 33.39 %\n",
      "\n",
      "\n",
      "------------------TEST-------------------\n",
      "Total tweets: 858\n",
      "Hate speech tweets: 286 \t 33.33 %\n",
      "Offensive tweets: 288 \t\t 33.57 %\n",
      "Neither tweets: 284 \t\t 33.10 %\n"
     ]
    }
   ],
   "source": [
    "# Extract X and Y\n",
    "X = df_downsampled[['stemmed tweet', 'sentiment score', 'FRE score']]\n",
    "Y = df_downsampled['class']\n",
    "\n",
    "# Define test size\n",
    "test_sz = 0.2\n",
    "\n",
    "# Split up the sample\n",
    "X_train, X_test, Y_train, Y_test = train_test_split(X, Y, test_size=test_sz, random_state=1)\n",
    "\n",
    "# Get stats from each sample\n",
    "print('------------------TRAIN------------------')\n",
    "print(f'Total tweets: {len(Y_train)}')\n",
    "print(f'Hate speech tweets: { np.sum(Y_train==0) } \\t {np.sum(Y_train==0)/len(Y_train)*100:.2f} %')\n",
    "print(f'Offensive tweets: { np.sum(Y_train==1) } \\t {np.sum(Y_train==1)/len(Y_train)*100:.2f} %')\n",
    "print(f'Neither tweets: { np.sum(Y_train==2) } \\t\\t {np.sum(Y_train==2)/len(Y_train)*100:.2f} %')\n",
    "print('\\n')\n",
    "print('------------------TEST-------------------')\n",
    "print(f'Total tweets: {len(Y_test)}')\n",
    "print(f'Hate speech tweets: { np.sum(Y_test==0) } \\t {np.sum(Y_test==0)/len(Y_test)*100:.2f} %')\n",
    "print(f'Offensive tweets: { np.sum(Y_test==1) } \\t\\t {np.sum(Y_test==1)/len(Y_test)*100:.2f} %')\n",
    "print(f'Neither tweets: { np.sum(Y_test==2) } \\t\\t {np.sum(Y_test==2)/len(Y_test)*100:.2f} %')\n"
   ]
  },
  {
   "cell_type": "markdown",
   "id": "ea644e53",
   "metadata": {},
   "source": [
    "# BoW on Train (.fit_transform) and Test (.transform)"
   ]
  },
  {
   "cell_type": "code",
   "execution_count": 9,
   "id": "162e66f8",
   "metadata": {
    "ExecuteTime": {
     "end_time": "2022-03-25T12:17:42.771267Z",
     "start_time": "2022-03-25T12:17:41.949641Z"
    }
   },
   "outputs": [],
   "source": [
    "# Initialise vectorizor\n",
    "vectorizer = CountVectorizer()\n",
    "\n",
    "# Fit the vectorizor to the train data and transform the data accordingly\n",
    "# NOTICE we use only the stemmed tweets for this part (since this is what we count words in)\n",
    "Xt_train_tweets = vectorizer.fit_transform(X_train['stemmed tweet']).toarray()\n",
    "Xt_train_tweets = pd.DataFrame(Xt_train_tweets, index=X_train['stemmed tweet'].index)\n",
    "\n",
    "# Concatenate with the other features\n",
    "other_features=['sentiment score', 'FRE score']\n",
    "Xt_train = pd.concat([ Xt_train_tweets, X_train[[*other_features]] ], axis=1)"
   ]
  },
  {
   "cell_type": "code",
   "execution_count": 10,
   "id": "9d554ed7",
   "metadata": {
    "ExecuteTime": {
     "end_time": "2022-03-25T12:17:42.937906Z",
     "start_time": "2022-03-25T12:17:42.773538Z"
    }
   },
   "outputs": [],
   "source": [
    "# Do the same on the test, but without the fitting part\n",
    "Xt_test_tweets = vectorizer.transform(X_test['stemmed tweet']).toarray()\n",
    "Xt_test_tweets = pd.DataFrame(Xt_test_tweets, index=X_test['stemmed tweet'].index)\n",
    "Xt_test = pd.concat([ Xt_test_tweets, X_test[[*other_features]] ], axis=1)"
   ]
  },
  {
   "cell_type": "markdown",
   "id": "8f41a0f8",
   "metadata": {},
   "source": [
    "# Select Best Features"
   ]
  },
  {
   "cell_type": "markdown",
   "id": "1dd27629",
   "metadata": {},
   "source": [
    "Optional: explore whether we can set the class weights to have something to do with how many people was involved in the classification or how much they agreed somehow telling us how reliable the true label actually is."
   ]
  },
  {
   "cell_type": "code",
   "execution_count": 11,
   "id": "e8803341",
   "metadata": {
    "ExecuteTime": {
     "end_time": "2022-03-25T12:18:40.488592Z",
     "start_time": "2022-03-25T12:17:42.946461Z"
    }
   },
   "outputs": [],
   "source": [
    "# Initialise model\n",
    "model_test = LinearSVC(class_weight='balanced',C=0.1, penalty='l2', loss='squared_hinge',\n",
    "                  multi_class='ovr', max_iter=1e6).fit(Xt_train, Y_train)"
   ]
  },
  {
   "cell_type": "code",
   "execution_count": 12,
   "id": "95371028",
   "metadata": {
    "ExecuteTime": {
     "end_time": "2022-03-25T12:18:40.989357Z",
     "start_time": "2022-03-25T12:18:40.490322Z"
    }
   },
   "outputs": [],
   "source": [
    "# SelectFromModel finds best features\n",
    "model_estimate = SelectFromModel(model_test, prefit = True, threshold=0.05)\n",
    "\n",
    "# Transform tweets by removing unwanted features\n",
    "Xt_train_best = model_estimate.transform(Xt_train)\n",
    "Xt_test_best = model_estimate.transform(Xt_test)"
   ]
  },
  {
   "cell_type": "code",
   "execution_count": 13,
   "id": "1311298f",
   "metadata": {
    "ExecuteTime": {
     "end_time": "2022-03-25T12:18:41.014706Z",
     "start_time": "2022-03-25T12:18:40.991343Z"
    }
   },
   "outputs": [
    {
     "data": {
      "text/plain": [
       "((3432, 4950), (3432, 6096))"
      ]
     },
     "execution_count": 13,
     "metadata": {},
     "output_type": "execute_result"
    }
   ],
   "source": [
    "np.shape(Xt_train_best), np.shape(Xt_train) "
   ]
  },
  {
   "cell_type": "markdown",
   "id": "2f3f60f4",
   "metadata": {},
   "source": [
    "# Train Model"
   ]
  },
  {
   "cell_type": "code",
   "execution_count": 14,
   "id": "dc811d9e",
   "metadata": {
    "ExecuteTime": {
     "end_time": "2022-03-25T12:18:41.498415Z",
     "start_time": "2022-03-25T12:18:41.019115Z"
    }
   },
   "outputs": [],
   "source": [
    "# Initialise model\n",
    "model = LinearSVC(class_weight='balanced',C=0.1, penalty='l2', loss='squared_hinge',\n",
    "                  multi_class='ovr', max_iter=1e6).fit(Xt_train_best, Y_train)\n",
    "\n",
    "# Make predictions on the train data\n",
    "Y_train_preds = model.predict(Xt_train_best)"
   ]
  },
  {
   "cell_type": "code",
   "execution_count": 31,
   "id": "50c775c3",
   "metadata": {
    "ExecuteTime": {
     "end_time": "2022-03-25T12:32:13.105313Z",
     "start_time": "2022-03-25T12:32:13.089789Z"
    }
   },
   "outputs": [],
   "source": [
    "def plot_conf_mat(y_true, y_pred, plot_threshold, normalize=False, save=False, fname='test'):\n",
    "    \n",
    "    # Make figure\n",
    "    fig, ax = plt.subplots(figsize=(5,5))\n",
    "    \n",
    "    # Compute confusion matrix\n",
    "    conf_mat = confusion_matrix(y_true, y_pred)\n",
    "        \n",
    "    # Normalise if states and plot conf_mat with percentages\n",
    "    if normalize:\n",
    "        conf_mat = conf_mat / conf_mat.astype(np.float).sum(axis=0)\n",
    "        \n",
    "        #ax.set_title('Normalised Confusion Matrix', fontsize=16)\n",
    "        ax.imshow(conf_mat, cmap='Purples')\n",
    "        for i in range(3):\n",
    "            for j in range(3):\n",
    "                if conf_mat[i,j] < plot_threshold:\n",
    "                    ax.text(i,j, f'{conf_mat[i,j]*100:.2f}%', horizontalalignment='center', color='k', fontsize=15)\n",
    "                else:\n",
    "                    ax.text(i,j,f'{conf_mat[i,j]*100:.2f}%', horizontalalignment='center', color='w', fontsize=15)\n",
    "\n",
    "    # Plot conf mat with integers\n",
    "    else:\n",
    "        ax.set_title('Unnormalised Confusion Matrix', fontsize=16)\n",
    "        ax.imshow(conf_mat, cmap='Purples')\n",
    "        for i in range(3):\n",
    "            for j in range(3):\n",
    "                if conf_mat[i,j] < plot_threshold:\n",
    "                    ax.text(i,j, f'{conf_mat[i,j]}', horizontalalignment='center', color='k', fontsize=15)\n",
    "                else:\n",
    "                    ax.text(i,j,f'{conf_mat[i,j]}', horizontalalignment='center', color='w', fontsize=15)\n",
    "                    \n",
    "    # Plot true and predictive suptitles\n",
    "    ax.text(x=-1.2,y=1.5,s='True Class',rotation='vertical',fontsize=18, fontweight=580)\n",
    "    ax.text(x=0.2,y=3.2,s='Predicted Class',fontsize=18, fontweight=580)\n",
    "\n",
    "    # Make it prettay\n",
    "    plt.xticks([0,1,2], labels=['Hate \\nSpeech', 'Offensive \\nLanguage', 'Neither'], fontsize=14)\n",
    "    plt.yticks([0,1,2], labels=['Hate \\nSpeech', 'Offensive \\nLanguage', 'Neither'], rotation=90,fontsize=14)\n",
    "    plt.tight_layout()\n",
    "    \n",
    "    if save:\n",
    "        plt.savefig('Plots/'+fname+'.pdf')\n",
    "    plt.show()"
   ]
  },
  {
   "cell_type": "code",
   "execution_count": 32,
   "id": "a70645f1",
   "metadata": {
    "ExecuteTime": {
     "end_time": "2022-03-25T12:32:14.281326Z",
     "start_time": "2022-03-25T12:32:13.826473Z"
    }
   },
   "outputs": [
    {
     "data": {
      "image/png": "[encoded data removed]",
      "text/plain": [
       "<Figure size 360x360 with 1 Axes>"
      ]
     },
     "metadata": {
      "needs_background": "light"
     },
     "output_type": "display_data"
    },
    {
     "data": {
      "image/png": "[encoded data removed]",
      "text/plain": [
       "<Figure size 360x360 with 1 Axes>"
      ]
     },
     "metadata": {
      "needs_background": "light"
     },
     "output_type": "display_data"
    }
   ],
   "source": [
    "plot_conf_mat(Y_train, Y_train_preds, plot_threshold=150, normalize=False)\n",
    "plot_conf_mat(Y_train, Y_train_preds, plot_threshold=0.5, normalize=True, save=True, fname='conf_train_BoW' )"
   ]
  },
  {
   "cell_type": "code",
   "execution_count": 33,
   "id": "7520ba21",
   "metadata": {
    "ExecuteTime": {
     "end_time": "2022-03-25T12:32:17.020666Z",
     "start_time": "2022-03-25T12:32:17.001040Z"
    }
   },
   "outputs": [
    {
     "data": {
      "text/plain": [
       "array([0.93023256, 0.92599119, 0.96268024])"
      ]
     },
     "execution_count": 33,
     "metadata": {},
     "output_type": "execute_result"
    }
   ],
   "source": [
    "precision_score(Y_train, Y_train_preds, average=None)"
   ]
  },
  {
   "cell_type": "markdown",
   "id": "1345380a",
   "metadata": {},
   "source": [
    "# Test Model"
   ]
  },
  {
   "cell_type": "code",
   "execution_count": 34,
   "id": "b9d8c371",
   "metadata": {
    "ExecuteTime": {
     "end_time": "2022-03-25T12:32:18.450777Z",
     "start_time": "2022-03-25T12:32:18.000768Z"
    }
   },
   "outputs": [
    {
     "data": {
      "image/png": "[encoded data removed]",
      "text/plain": [
       "<Figure size 360x360 with 1 Axes>"
      ]
     },
     "metadata": {
      "needs_background": "light"
     },
     "output_type": "display_data"
    },
    {
     "data": {
      "image/png": "[encoded data removed]",
      "text/plain": [
       "<Figure size 360x360 with 1 Axes>"
      ]
     },
     "metadata": {
      "needs_background": "light"
     },
     "output_type": "display_data"
    }
   ],
   "source": [
    "# Make predictions on the test data\n",
    "Y_test_preds = model.predict(Xt_test_best)\n",
    "\n",
    "# Plot confusion matrix\n",
    "plot_conf_mat(Y_test, Y_test_preds, plot_threshold=150, normalize = False)\n",
    "plot_conf_mat(Y_test, Y_test_preds, plot_threshold=0.5, normalize = True, save=True, fname='conf_test_BoW')"
   ]
  },
  {
   "cell_type": "code",
   "execution_count": 35,
   "id": "5037bb93",
   "metadata": {
    "ExecuteTime": {
     "end_time": "2022-03-25T12:32:21.563866Z",
     "start_time": "2022-03-25T12:32:21.552703Z"
    }
   },
   "outputs": [
    {
     "data": {
      "text/plain": [
       "array([0.75378788, 0.76271186, 0.85953177])"
      ]
     },
     "execution_count": 35,
     "metadata": {},
     "output_type": "execute_result"
    }
   ],
   "source": [
    "precision_score(Y_test, Y_test_preds, average=None)"
   ]
  },
  {
   "cell_type": "code",
   "execution_count": null,
   "id": "9dcc842b",
   "metadata": {},
   "outputs": [],
   "source": []
  }
 ],
 "metadata": {
  "kernelspec": {
   "display_name": "Python 3",
   "language": "python",
   "name": "python3"
  },
  "language_info": {
   "codemirror_mode": {
    "name": "ipython",
    "version": 3
   },
   "file_extension": ".py",
   "mimetype": "text/x-python",
   "name": "python",
   "nbconvert_exporter": "python",
   "pygments_lexer": "ipython3",
   "version": "3.6.13"
  },
  "toc": {
   "base_numbering": 1,
   "nav_menu": {},
   "number_sections": true,
   "sideBar": true,
   "skip_h1_title": false,
   "title_cell": "Table of Contents",
   "title_sidebar": "Contents",
   "toc_cell": false,
   "toc_position": {},
   "toc_section_display": true,
   "toc_window_display": true
  }
 },
 "nbformat": 4,
 "nbformat_minor": 5
}
