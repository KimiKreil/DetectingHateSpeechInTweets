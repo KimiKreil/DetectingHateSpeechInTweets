{
 "cells": [
  {
   "cell_type": "markdown",
   "id": "59f92f99",
   "metadata": {},
   "source": [
    "# Load libraries"
   ]
  },
  {
   "cell_type": "code",
   "execution_count": 1,
   "id": "b8bf73c4",
   "metadata": {
    "ExecuteTime": {
     "end_time": "2022-03-25T14:07:29.919760Z",
     "start_time": "2022-03-25T14:07:24.553665Z"
    }
   },
   "outputs": [
    {
     "name": "stderr",
     "output_type": "stream",
     "text": [
      "[nltk_data] Downloading package vader_lexicon to\n",
      "[nltk_data]     /Users/kreilgaard/nltk_data...\n",
      "[nltk_data]   Package vader_lexicon is already up-to-date!\n"
     ]
    },
    {
     "data": {
      "text/plain": [
       "True"
      ]
     },
     "execution_count": 1,
     "metadata": {},
     "output_type": "execute_result"
    }
   ],
   "source": [
    "# Standard libraries\n",
    "import numpy as np\n",
    "import pandas as pd\n",
    "import matplotlib.pyplot as plt\n",
    "\n",
    "# Import stuff for sentiment analyzation\n",
    "from nltk.sentiment.vader import SentimentIntensityAnalyzer\n",
    "\n",
    "import nltk\n",
    "nltk.download('vader_lexicon')"
   ]
  },
  {
   "cell_type": "markdown",
   "id": "2be91fe3",
   "metadata": {},
   "source": [
    "# Load Preprocessed Data"
   ]
  },
  {
   "cell_type": "code",
   "execution_count": 2,
   "id": "d19cdc3d",
   "metadata": {
    "ExecuteTime": {
     "end_time": "2022-03-25T14:07:30.269080Z",
     "start_time": "2022-03-25T14:07:29.924978Z"
    }
   },
   "outputs": [
    {
     "data": {
      "text/html": [
       "<div>\n",
       "<style scoped>\n",
       "    .dataframe tbody tr th:only-of-type {\n",
       "        vertical-align: middle;\n",
       "    }\n",
       "\n",
       "    .dataframe tbody tr th {\n",
       "        vertical-align: top;\n",
       "    }\n",
       "\n",
       "    .dataframe thead th {\n",
       "        text-align: right;\n",
       "    }\n",
       "</style>\n",
       "<table border=\"1\" class=\"dataframe\">\n",
       "  <thead>\n",
       "    <tr style=\"text-align: right;\">\n",
       "      <th></th>\n",
       "      <th>Unnamed: 0</th>\n",
       "      <th>count</th>\n",
       "      <th>hate_speech</th>\n",
       "      <th>offensive_language</th>\n",
       "      <th>neither</th>\n",
       "      <th>class</th>\n",
       "      <th>tweet</th>\n",
       "      <th>clean tweet</th>\n",
       "      <th>stemmed tweet</th>\n",
       "    </tr>\n",
       "  </thead>\n",
       "  <tbody>\n",
       "    <tr>\n",
       "      <th>0</th>\n",
       "      <td>0</td>\n",
       "      <td>3</td>\n",
       "      <td>0</td>\n",
       "      <td>0</td>\n",
       "      <td>3</td>\n",
       "      <td>2</td>\n",
       "      <td>!!! RT @mayasolovely: As a woman you shouldn't...</td>\n",
       "      <td>exclamationmark mentionhere woman complain cle...</td>\n",
       "      <td>exclamationmark mentionhere woman complain cle...</td>\n",
       "    </tr>\n",
       "    <tr>\n",
       "      <th>1</th>\n",
       "      <td>1</td>\n",
       "      <td>3</td>\n",
       "      <td>0</td>\n",
       "      <td>3</td>\n",
       "      <td>0</td>\n",
       "      <td>1</td>\n",
       "      <td>!!!!! RT @mleew17: boy dats cold...tyga dwn ba...</td>\n",
       "      <td>exclamationmark mentionhere boy dats cold tyga...</td>\n",
       "      <td>exclamationmark mentionhere boy dat cold tyga ...</td>\n",
       "    </tr>\n",
       "    <tr>\n",
       "      <th>2</th>\n",
       "      <td>2</td>\n",
       "      <td>3</td>\n",
       "      <td>0</td>\n",
       "      <td>3</td>\n",
       "      <td>0</td>\n",
       "      <td>1</td>\n",
       "      <td>!!!!!!! RT @UrKindOfBrand Dawg!!!! RT @80sbaby...</td>\n",
       "      <td>exclamationmark mentionhere dawg exclamationma...</td>\n",
       "      <td>exclamationmark mentionhere dawg exclamationma...</td>\n",
       "    </tr>\n",
       "    <tr>\n",
       "      <th>3</th>\n",
       "      <td>3</td>\n",
       "      <td>3</td>\n",
       "      <td>0</td>\n",
       "      <td>2</td>\n",
       "      <td>1</td>\n",
       "      <td>1</td>\n",
       "      <td>!!!!!!!!! RT @C_G_Anderson: @viva_based she lo...</td>\n",
       "      <td>exclamationmark mentionhere mentionhere look l...</td>\n",
       "      <td>exclamationmark mentionhere mentionhere look l...</td>\n",
       "    </tr>\n",
       "    <tr>\n",
       "      <th>4</th>\n",
       "      <td>4</td>\n",
       "      <td>6</td>\n",
       "      <td>0</td>\n",
       "      <td>6</td>\n",
       "      <td>0</td>\n",
       "      <td>1</td>\n",
       "      <td>!!!!!!!!!!!!! RT @ShenikaRoberts: The shit you...</td>\n",
       "      <td>exclamationmark mentionhere shit hear might tr...</td>\n",
       "      <td>exclamationmark mentionhere shit hear might tr...</td>\n",
       "    </tr>\n",
       "    <tr>\n",
       "      <th>...</th>\n",
       "      <td>...</td>\n",
       "      <td>...</td>\n",
       "      <td>...</td>\n",
       "      <td>...</td>\n",
       "      <td>...</td>\n",
       "      <td>...</td>\n",
       "      <td>...</td>\n",
       "      <td>...</td>\n",
       "      <td>...</td>\n",
       "    </tr>\n",
       "    <tr>\n",
       "      <th>24778</th>\n",
       "      <td>25291</td>\n",
       "      <td>3</td>\n",
       "      <td>0</td>\n",
       "      <td>2</td>\n",
       "      <td>1</td>\n",
       "      <td>1</td>\n",
       "      <td>you's a muthaf***in lie &amp;#8220;@LifeAsKing: @2...</td>\n",
       "      <td>yous muthaf lie emoticonhere mentionhere menti...</td>\n",
       "      <td>yous muthaf lie emoticonhere mentionhere menti...</td>\n",
       "    </tr>\n",
       "    <tr>\n",
       "      <th>24779</th>\n",
       "      <td>25292</td>\n",
       "      <td>3</td>\n",
       "      <td>0</td>\n",
       "      <td>1</td>\n",
       "      <td>2</td>\n",
       "      <td>2</td>\n",
       "      <td>you've gone and broke the wrong heart baby, an...</td>\n",
       "      <td>gone broke wrong heart baby drove redneck crazy</td>\n",
       "      <td>go broke wrong heart baby drove redneck crazy</td>\n",
       "    </tr>\n",
       "    <tr>\n",
       "      <th>24780</th>\n",
       "      <td>25294</td>\n",
       "      <td>3</td>\n",
       "      <td>0</td>\n",
       "      <td>3</td>\n",
       "      <td>0</td>\n",
       "      <td>1</td>\n",
       "      <td>young buck wanna eat!!.. dat nigguh like I ain...</td>\n",
       "      <td>young buck wanna eat exclamationmark dat niggu...</td>\n",
       "      <td>young buck wanna eat exclamationmark dat niggu...</td>\n",
       "    </tr>\n",
       "    <tr>\n",
       "      <th>24781</th>\n",
       "      <td>25295</td>\n",
       "      <td>6</td>\n",
       "      <td>0</td>\n",
       "      <td>6</td>\n",
       "      <td>0</td>\n",
       "      <td>1</td>\n",
       "      <td>youu got wild bitches tellin you lies</td>\n",
       "      <td>youu got wild bitches tellin lies</td>\n",
       "      <td>youu get wild bitch tellin lie</td>\n",
       "    </tr>\n",
       "    <tr>\n",
       "      <th>24782</th>\n",
       "      <td>25296</td>\n",
       "      <td>3</td>\n",
       "      <td>0</td>\n",
       "      <td>0</td>\n",
       "      <td>3</td>\n",
       "      <td>2</td>\n",
       "      <td>~~Ruffled | Ntac Eileen Dahlia - Beautiful col...</td>\n",
       "      <td>ruffled ntac eileen dahlia beautiful color com...</td>\n",
       "      <td>ruffle ntac eileen dahlia beautiful color comb...</td>\n",
       "    </tr>\n",
       "  </tbody>\n",
       "</table>\n",
       "<p>24783 rows × 9 columns</p>\n",
       "</div>"
      ],
      "text/plain": [
       "       Unnamed: 0  count  hate_speech  offensive_language  neither  class  \\\n",
       "0               0      3            0                   0        3      2   \n",
       "1               1      3            0                   3        0      1   \n",
       "2               2      3            0                   3        0      1   \n",
       "3               3      3            0                   2        1      1   \n",
       "4               4      6            0                   6        0      1   \n",
       "...           ...    ...          ...                 ...      ...    ...   \n",
       "24778       25291      3            0                   2        1      1   \n",
       "24779       25292      3            0                   1        2      2   \n",
       "24780       25294      3            0                   3        0      1   \n",
       "24781       25295      6            0                   6        0      1   \n",
       "24782       25296      3            0                   0        3      2   \n",
       "\n",
       "                                                   tweet  \\\n",
       "0      !!! RT @mayasolovely: As a woman you shouldn't...   \n",
       "1      !!!!! RT @mleew17: boy dats cold...tyga dwn ba...   \n",
       "2      !!!!!!! RT @UrKindOfBrand Dawg!!!! RT @80sbaby...   \n",
       "3      !!!!!!!!! RT @C_G_Anderson: @viva_based she lo...   \n",
       "4      !!!!!!!!!!!!! RT @ShenikaRoberts: The shit you...   \n",
       "...                                                  ...   \n",
       "24778  you's a muthaf***in lie &#8220;@LifeAsKing: @2...   \n",
       "24779  you've gone and broke the wrong heart baby, an...   \n",
       "24780  young buck wanna eat!!.. dat nigguh like I ain...   \n",
       "24781              youu got wild bitches tellin you lies   \n",
       "24782  ~~Ruffled | Ntac Eileen Dahlia - Beautiful col...   \n",
       "\n",
       "                                             clean tweet  \\\n",
       "0      exclamationmark mentionhere woman complain cle...   \n",
       "1      exclamationmark mentionhere boy dats cold tyga...   \n",
       "2      exclamationmark mentionhere dawg exclamationma...   \n",
       "3      exclamationmark mentionhere mentionhere look l...   \n",
       "4      exclamationmark mentionhere shit hear might tr...   \n",
       "...                                                  ...   \n",
       "24778  yous muthaf lie emoticonhere mentionhere menti...   \n",
       "24779    gone broke wrong heart baby drove redneck crazy   \n",
       "24780  young buck wanna eat exclamationmark dat niggu...   \n",
       "24781                  youu got wild bitches tellin lies   \n",
       "24782  ruffled ntac eileen dahlia beautiful color com...   \n",
       "\n",
       "                                           stemmed tweet  \n",
       "0      exclamationmark mentionhere woman complain cle...  \n",
       "1      exclamationmark mentionhere boy dat cold tyga ...  \n",
       "2      exclamationmark mentionhere dawg exclamationma...  \n",
       "3      exclamationmark mentionhere mentionhere look l...  \n",
       "4      exclamationmark mentionhere shit hear might tr...  \n",
       "...                                                  ...  \n",
       "24778  yous muthaf lie emoticonhere mentionhere menti...  \n",
       "24779      go broke wrong heart baby drove redneck crazy  \n",
       "24780  young buck wanna eat exclamationmark dat niggu...  \n",
       "24781                     youu get wild bitch tellin lie  \n",
       "24782  ruffle ntac eileen dahlia beautiful color comb...  \n",
       "\n",
       "[24783 rows x 9 columns]"
      ]
     },
     "execution_count": 2,
     "metadata": {},
     "output_type": "execute_result"
    }
   ],
   "source": [
    "df = pd.read_csv('parsed_data.csv')\n",
    "df"
   ]
  },
  {
   "cell_type": "markdown",
   "id": "bf327f17",
   "metadata": {},
   "source": [
    "# Sentiment Scores with VADER\n",
    "Sentiment analysis description:\n",
    "https://towardsdatascience.com/sentimental-analysis-using-vader-a3415fef7664"
   ]
  },
  {
   "cell_type": "code",
   "execution_count": 3,
   "id": "df694147",
   "metadata": {
    "ExecuteTime": {
     "end_time": "2022-03-25T14:07:34.453185Z",
     "start_time": "2022-03-25T14:07:30.273091Z"
    }
   },
   "outputs": [],
   "source": [
    "# Initialise the sentiment analyzer\n",
    "sid = SentimentIntensityAnalyzer()\n",
    "\n",
    "# Get polarity compound scores (returns a score for negative, neutral, positive and a compound score)\n",
    "# COMPOUND: -1(most extreme negative) and +1 (most extreme positive)\n",
    "\n",
    "# Empty array to store sentiment score\n",
    "sentiment_scores = []\n",
    "\n",
    "# Loop over tweets\n",
    "for i in range(len(df)):\n",
    "    \n",
    "    # Compute score\n",
    "    score = sid.polarity_scores(df['stemmed tweet'][i])['compound']\n",
    "    \n",
    "    # Append score\n",
    "    sentiment_scores.append(score)\n",
    "\n",
    "# Add column to dataframe\n",
    "df['sentiment score'] = sentiment_scores"
   ]
  },
  {
   "cell_type": "code",
   "execution_count": 4,
   "id": "1f8f67f5",
   "metadata": {
    "ExecuteTime": {
     "end_time": "2022-03-25T14:07:34.494725Z",
     "start_time": "2022-03-25T14:07:34.455556Z"
    }
   },
   "outputs": [],
   "source": [
    "# Count tweets with negative sentiments \n",
    "N_neg = np.sum(df['sentiment score'] < 0)\n",
    "\n",
    "# and positive sentiments\n",
    "N_pos = np.sum(df['sentiment score'] > 0)\n",
    "\n",
    "# and neutral\n",
    "N_neu = np.sum(df['sentiment score'] == 0)"
   ]
  },
  {
   "cell_type": "code",
   "execution_count": 5,
   "id": "3094b5d8",
   "metadata": {
    "ExecuteTime": {
     "end_time": "2022-03-25T14:07:34.803061Z",
     "start_time": "2022-03-25T14:07:34.496494Z"
    }
   },
   "outputs": [
    {
     "data": {
      "image/png": "[encoded data removed]",
      "text/plain": [
       "<Figure size 864x432 with 1 Axes>"
      ]
     },
     "metadata": {
      "needs_background": "light"
     },
     "output_type": "display_data"
    }
   ],
   "source": [
    "# Visualise the sentiment scores\n",
    "fig, ax = plt.subplots(figsize=(12,6))\n",
    "\n",
    "# Plot scores\n",
    "ax.hist(df['sentiment score'], bins=np.arange(-1.05,1.1,0.1), color='purple', zorder=2)\n",
    "\n",
    "# Mark counts in each group\n",
    "ax.text(0.1, 4300, f'Counts negative sentiment (<0): {N_neg}', fontsize=15)\n",
    "ax.text(0.1, 3800, f'Counts positive sentiment (>0): {N_pos}', fontsize=15)\n",
    "ax.text(0.1, 3300, f'Counts neutral sentiment (=0): {N_neu}', fontsize=15)\n",
    "\n",
    "# Make pretty\n",
    "ax.set_facecolor('gainsboro')\n",
    "ax.grid(color='white')\n",
    "ax.set_title('Distribution of Sentiment Scores', fontsize=20)\n",
    "ax.set_xlabel('Compound Sentiment Score (VADER)', fontsize=18)\n",
    "ax.set_ylabel('Number of Tweets', fontsize=18)\n",
    "plt.xticks(fontsize=15)\n",
    "plt.yticks(fontsize=15)\n",
    "plt.xlim(-1.1,1.2)\n",
    "\n",
    "plt.show()"
   ]
  },
  {
   "cell_type": "markdown",
   "id": "a9dca514",
   "metadata": {},
   "source": [
    "<span style=\"color:red\"> THIS PLOT SHOULD BE MADE FOR ALL DATA AND AFTERWARDS FOR THE DOWNSAMPLED DATA (WHERE THERE ARE THE SAME NUMBER OF TWEETS IN EACH CATEGORY). MAYBE ALSO COMPARE FOR TRAIN AND TEST AND MAKE SURE IT IS THE SAME ISH? </span>."
   ]
  },
  {
   "cell_type": "markdown",
   "id": "4eed7bab",
   "metadata": {},
   "source": [
    "# Readability Scores \n",
    "There are different ways to asses the readability, some are outlined here:\n",
    "https://www.geeksforgeeks.org/readability-index-pythonnlp/\n",
    "and here:\n",
    "https://www.tutorialspoint.com/readability-index-in-python-nlp\n",
    "\n",
    "Article describing a modified Flesch reading ease score suitable for twitter. It is described under \"Measuring Reading Ease\" here:\n",
    "https://arxiv.org/pdf/1401.6058.pdf\n",
    "Due to the short format of tweets. Each tweet is treated as one sentence. The Flesch formula is used since it does not depend on a large segment of text, but only depends primarily on word and sentence length. This produces values nominally in the range [0,122], with higher RE scores indicating greater ease in readability, and lower scores indicating difficult or complex writing. Values below this range are also possible for very complex texts.\n",
    "\n",
    "Flesch reading ease: FRE\n",
    "\n",
    "Because tweets are inherently short and punctuation is often unconventional, we treat each tweet as having a single sentence. We followed standard conventions to define syllables within words: split words on vowels, pairs of vowels count as a single split. For words ending in –e (except those ending with –le), –es, or –ed, we subtracted a syllable. Any words that started with “http” or “@” were removed, thus excluding hyperlinks and usernames from the calculation. Tweets with a null score (e.g. those only containing a hyperlink) were discarded. We calculated our RE metric both with and without words that started with “#”, colloquially known as “hashtags”. We discuss their effect on the readability later on.\n",
    "\n",
    "Reading Ease score = 206.835 - (1.015 × ASL) - (84.6 × ASW) <br>\n",
    "Here,\n",
    "ASL = average sentence length (number of words divided by number of sentences)\n",
    "ASW = average word length in syllables (number of syllables divided by number of words)"
   ]
  },
  {
   "cell_type": "code",
   "execution_count": 6,
   "id": "b4244881",
   "metadata": {
    "ExecuteTime": {
     "end_time": "2022-03-25T14:07:34.813413Z",
     "start_time": "2022-03-25T14:07:34.805403Z"
    }
   },
   "outputs": [],
   "source": [
    "# Define helper function to count syllables\n",
    "def count_syllables(word):\n",
    "    \n",
    "    # We start by setting the number to zero and add each time we encounter a syllable\n",
    "    syllables = 0\n",
    "        \n",
    "    # Define wovels (yes we don't consider y here, sorry)\n",
    "    wovels = ['a', 'e', 'i', 'o', 'u']\n",
    "        \n",
    "    # Check if the first letter is a wovel\n",
    "    if word[0] in wovels:\n",
    "        syllables += 1\n",
    "        \n",
    "    # Check if the remainder of the words has a wovel appearing after a consonant\n",
    "    for i in range(1,len(word)):\n",
    "        if word[i] in wovels and word[i-1] not in wovels:\n",
    "            syllables += 1\n",
    "    \n",
    "    # Handle *some* exceptions, there are many exceptions and for this purpose \n",
    "    #we only need to consider the most abundant ones\n",
    "    for ending in ['es', 'ed', 'e']:\n",
    "        if word.endswith(ending):\n",
    "            syllables -= 1\n",
    "    \n",
    "    if len(word) >= 3 and word.endswith('le') and word[-3] not in wovels:\n",
    "        syllables -= 1\n",
    "        \n",
    "    if len(word) >= 4 and word.endswith('les') and word[-4] not in wovels:\n",
    "        syllables -= 1\n",
    "    \n",
    "    return syllables"
   ]
  },
  {
   "cell_type": "code",
   "execution_count": 7,
   "id": "5641232a",
   "metadata": {
    "ExecuteTime": {
     "end_time": "2022-03-25T14:07:34.840013Z",
     "start_time": "2022-03-25T14:07:34.818505Z"
    }
   },
   "outputs": [],
   "source": [
    "# Define function that returns FRE for a tweet\n",
    "def Flesch_score(string):\n",
    "    \"\"\"Should be used on the stemmed, cleaned tweets\"\"\"\n",
    "    \n",
    "    # Extract words from tweet\n",
    "    words = string.split()\n",
    "    \n",
    "    # Remove words that are not actually words\n",
    "    not_words = ['exclamationmark', 'questionmark', 'mentionhere', 'urlhere', 'emoticonhere']\n",
    "    words = [w for w in words if w not in not_words]\n",
    "    \n",
    "    # Get number of words = average sentence length, since we set N_sentences=1\n",
    "    ASL = len(words)\n",
    "    \n",
    "    # Get average word length ASW -------------\n",
    "    \n",
    "    # Array to store word lengths in syllables\n",
    "    syllables_arr = np.zeros(ASL)\n",
    "    \n",
    "    # Loop over words in tweet\n",
    "    for i in range(ASL):\n",
    "        syllables_arr[i] = count_syllables(words[i])\n",
    "            \n",
    "    # Get ASW\n",
    "    ASW = np.mean(syllables_arr)\n",
    "    # -----------------------------------------\n",
    "    \n",
    "    # Compute Flesch reading ease score\n",
    "    FRE = 206.835 - (1.015 * ASL) - (84.6 * ASW)\n",
    "\n",
    "    return FRE"
   ]
  },
  {
   "cell_type": "code",
   "execution_count": 8,
   "id": "a79b1b3a",
   "metadata": {
    "ExecuteTime": {
     "end_time": "2022-03-25T14:07:36.099735Z",
     "start_time": "2022-03-25T14:07:34.851767Z"
    }
   },
   "outputs": [
    {
     "name": "stderr",
     "output_type": "stream",
     "text": [
      "/anaconda3/lib/python3.6/site-packages/numpy/core/fromnumeric.py:3373: RuntimeWarning: Mean of empty slice.\n",
      "  out=out, **kwargs)\n",
      "/anaconda3/lib/python3.6/site-packages/numpy/core/_methods.py:170: RuntimeWarning: invalid value encountered in double_scalars\n",
      "  ret = ret.dtype.type(ret / rcount)\n"
     ]
    }
   ],
   "source": [
    "# Empty array to store FRE score\n",
    "FRE_scores = []\n",
    "\n",
    "# Loop over tweets\n",
    "for i in range(len(df)):\n",
    "    \n",
    "    # Compute score\n",
    "    score = Flesch_score(df['stemmed tweet'][i])\n",
    "    \n",
    "    # Append score\n",
    "    FRE_scores.append(score)\n",
    "\n",
    "# Add column to dataframe\n",
    "df['FRE score'] = FRE_scores"
   ]
  },
  {
   "cell_type": "code",
   "execution_count": 16,
   "id": "e918fd77",
   "metadata": {
    "ExecuteTime": {
     "end_time": "2022-03-25T14:10:37.023260Z",
     "start_time": "2022-03-25T14:10:36.523167Z"
    }
   },
   "outputs": [
    {
     "data": {
      "image/png": "[encoded data removed]",
      "text/plain": [
       "<Figure size 576x432 with 1 Axes>"
      ]
     },
     "metadata": {
      "needs_background": "light"
     },
     "output_type": "display_data"
    }
   ],
   "source": [
    "# Visualise the sentiment scores\n",
    "fig, ax = plt.subplots(figsize=(8,6))\n",
    "\n",
    "# Plot scores\n",
    "ax.hist(df['FRE score'], color='purple', bins=25, zorder=2, label='Full Tweet Corpus')\n",
    "\n",
    "# Make pretty\n",
    "ax.legend(prop={'size':15})\n",
    "ax.set_facecolor('gainsboro')\n",
    "ax.grid(color='white')\n",
    "ax.set_title('Distribution of FRE Scores', fontsize=20)\n",
    "ax.set_xlabel('Flesch Readability Ease', fontsize=18)\n",
    "ax.set_ylabel('Number of Tweets', fontsize=18)\n",
    "plt.xticks(fontsize=15)\n",
    "plt.yticks(fontsize=15)\n",
    "plt.xlim(-100,200)\n",
    "plt.tight_layout()\n",
    "plt.savefig('Plots/FRE_scores.pdf')\n",
    "\n",
    "plt.show()"
   ]
  },
  {
   "cell_type": "code",
   "execution_count": 10,
   "id": "a26116de",
   "metadata": {
    "ExecuteTime": {
     "end_time": "2022-03-25T14:07:36.363565Z",
     "start_time": "2022-03-25T14:07:36.358189Z"
    }
   },
   "outputs": [],
   "source": [
    "nan_mask = df['FRE score'].isna()"
   ]
  },
  {
   "cell_type": "markdown",
   "id": "54d00931",
   "metadata": {},
   "source": [
    "# Export Data to File"
   ]
  },
  {
   "cell_type": "code",
   "execution_count": 11,
   "id": "cdfc3651",
   "metadata": {
    "ExecuteTime": {
     "end_time": "2022-03-25T14:07:36.672830Z",
     "start_time": "2022-03-25T14:07:36.366975Z"
    }
   },
   "outputs": [],
   "source": [
    "# Export data\n",
    "df.to_csv('parsed_data_with_features.csv', index=False)"
   ]
  },
  {
   "cell_type": "code",
   "execution_count": null,
   "id": "fe18ba13",
   "metadata": {},
   "outputs": [],
   "source": []
  }
 ],
 "metadata": {
  "kernelspec": {
   "display_name": "Python 3",
   "language": "python",
   "name": "python3"
  },
  "language_info": {
   "codemirror_mode": {
    "name": "ipython",
    "version": 3
   },
   "file_extension": ".py",
   "mimetype": "text/x-python",
   "name": "python",
   "nbconvert_exporter": "python",
   "pygments_lexer": "ipython3",
   "version": "3.6.13"
  },
  "toc": {
   "base_numbering": 1,
   "nav_menu": {},
   "number_sections": true,
   "sideBar": true,
   "skip_h1_title": false,
   "title_cell": "Table of Contents",
   "title_sidebar": "Contents",
   "toc_cell": false,
   "toc_position": {},
   "toc_section_display": true,
   "toc_window_display": true
  }
 },
 "nbformat": 4,
 "nbformat_minor": 5
}
